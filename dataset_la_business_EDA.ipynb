{
 "cells": [
  {
   "cell_type": "markdown",
   "metadata": {},
   "source": [
    "Listing of All Businesses\n",
    "https://data.lacity.org/Administration-Finance/Listing-of-All-Businesses/r4uk-afju/about_data\n"
   ]
  },
  {
   "cell_type": "code",
   "execution_count": 1,
   "metadata": {},
   "outputs": [],
   "source": [
    "import pandas as pd"
   ]
  },
  {
   "cell_type": "code",
   "execution_count": 2,
   "metadata": {},
   "outputs": [
    {
     "name": "stdout",
     "output_type": "stream",
     "text": [
      "<class 'pandas.core.frame.DataFrame'>\n",
      "RangeIndex: 1593026 entries, 0 to 1593025\n",
      "Data columns (total 16 columns):\n",
      " #   Column                     Non-Null Count    Dtype         \n",
      "---  ------                     --------------    -----         \n",
      " 0   LOCATION ACCOUNT #         1593026 non-null  object        \n",
      " 1   BUSINESS NAME              1593026 non-null  object        \n",
      " 2   DBA NAME                   245872 non-null   object        \n",
      " 3   STREET ADDRESS             1592924 non-null  object        \n",
      " 4   CITY                       1592920 non-null  object        \n",
      " 5   ZIP CODE                   1593026 non-null  object        \n",
      " 6   LOCATION DESCRIPTION       1592903 non-null  object        \n",
      " 7   MAILING ADDRESS            359466 non-null   object        \n",
      " 8   MAILING CITY               359478 non-null   object        \n",
      " 9   MAILING ZIP CODE           359344 non-null   object        \n",
      " 10  NAICS                      624448 non-null   Int64         \n",
      " 11  PRIMARY NAICS DESCRIPTION  624448 non-null   object        \n",
      " 12  COUNCIL DISTRICT           1593026 non-null  int64         \n",
      " 13  LOCATION START DATE        1591469 non-null  datetime64[ns]\n",
      " 14  LOCATION END DATE          998797 non-null   object        \n",
      " 15  LOCATION                   670305 non-null   object        \n",
      "dtypes: Int64(1), datetime64[ns](1), int64(1), object(13)\n",
      "memory usage: 196.0+ MB\n"
     ]
    }
   ],
   "source": [
    "file_path = 'dataset\\\\Listing_of_All_Businesses_20250202.csv'\n",
    "# file_url = 'https://media.githubusercontent.com/media/EricSJSU-DataScience/CS163_project/refs/heads/main/dataset/Listing_of_All_Businesses_20250202.csv'\n",
    "df = pd.read_csv(file_path, \n",
    "                 dtype={\"NAICS\": \"Int64\"}, \n",
    "                 parse_dates=[\"LOCATION START DATE\", \"LOCATION END DATE\"]\n",
    "                 )\n",
    "df.info()"
   ]
  },
  {
   "cell_type": "code",
   "execution_count": 6,
   "metadata": {},
   "outputs": [
    {
     "name": "stderr",
     "output_type": "stream",
     "text": [
      "C:\\Users\\Eric\\AppData\\Local\\Temp\\ipykernel_26440\\926956247.py:1: UserWarning: The argument 'infer_datetime_format' is deprecated and will be removed in a future version. A strict version of it is now the default, see https://pandas.pydata.org/pdeps/0004-consistent-to-datetime-parsing.html. You can safely remove this argument.\n",
      "  df['LOCATION END DATE'] = pd.to_datetime(df['LOCATION END DATE'], errors='coerce', infer_datetime_format=True)\n"
     ]
    },
    {
     "name": "stdout",
     "output_type": "stream",
     "text": [
      "<class 'pandas.core.frame.DataFrame'>\n",
      "RangeIndex: 1593026 entries, 0 to 1593025\n",
      "Data columns (total 16 columns):\n",
      " #   Column                     Non-Null Count    Dtype         \n",
      "---  ------                     --------------    -----         \n",
      " 0   LOCATION ACCOUNT #         1593026 non-null  object        \n",
      " 1   BUSINESS NAME              1593026 non-null  object        \n",
      " 2   DBA NAME                   245872 non-null   object        \n",
      " 3   STREET ADDRESS             1592924 non-null  object        \n",
      " 4   CITY                       1592920 non-null  object        \n",
      " 5   ZIP CODE                   1593026 non-null  object        \n",
      " 6   LOCATION DESCRIPTION       1592903 non-null  object        \n",
      " 7   MAILING ADDRESS            359466 non-null   object        \n",
      " 8   MAILING CITY               359478 non-null   object        \n",
      " 9   MAILING ZIP CODE           359344 non-null   object        \n",
      " 10  NAICS                      624448 non-null   Int64         \n",
      " 11  PRIMARY NAICS DESCRIPTION  624448 non-null   object        \n",
      " 12  COUNCIL DISTRICT           1593026 non-null  int64         \n",
      " 13  LOCATION START DATE        1591469 non-null  datetime64[ns]\n",
      " 14  LOCATION END DATE          998794 non-null   datetime64[ns]\n",
      " 15  LOCATION                   670305 non-null   object        \n",
      "dtypes: Int64(1), datetime64[ns](2), int64(1), object(12)\n",
      "memory usage: 196.0+ MB\n"
     ]
    }
   ],
   "source": [
    "df['LOCATION END DATE'] = pd.to_datetime(df['LOCATION END DATE'], errors='coerce', infer_datetime_format=True)\n",
    "df.info()"
   ]
  },
  {
   "cell_type": "code",
   "execution_count": 4,
   "metadata": {},
   "outputs": [
    {
     "name": "stdout",
     "output_type": "stream",
     "text": [
      "<class 'pandas.core.frame.DataFrame'>\n",
      "RangeIndex: 1593026 entries, 0 to 1593025\n",
      "Data columns (total 16 columns):\n",
      " #   Column                     Non-Null Count    Dtype         \n",
      "---  ------                     --------------    -----         \n",
      " 0   LOCATION ACCOUNT #         1593026 non-null  object        \n",
      " 1   BUSINESS NAME              1593026 non-null  object        \n",
      " 2   DBA NAME                   245872 non-null   object        \n",
      " 3   STREET ADDRESS             1592924 non-null  object        \n",
      " 4   CITY                       1592920 non-null  object        \n",
      " 5   ZIP CODE                   1593026 non-null  object        \n",
      " 6   LOCATION DESCRIPTION       1592903 non-null  object        \n",
      " 7   MAILING ADDRESS            359466 non-null   object        \n",
      " 8   MAILING CITY               359478 non-null   object        \n",
      " 9   MAILING ZIP CODE           359344 non-null   object        \n",
      " 10  NAICS                      624448 non-null   Int64         \n",
      " 11  PRIMARY NAICS DESCRIPTION  624448 non-null   object        \n",
      " 12  COUNCIL DISTRICT           1593026 non-null  int64         \n",
      " 13  LOCATION START DATE        1591469 non-null  datetime64[ns]\n",
      " 14  LOCATION END DATE          998794 non-null   datetime64[ns]\n",
      " 15  LOCATION                   670305 non-null   object        \n",
      "dtypes: Int64(1), datetime64[ns](2), int64(1), object(12)\n",
      "memory usage: 196.0+ MB\n",
      "None\n"
     ]
    }
   ],
   "source": [
    "print(df.info())"
   ]
  },
  {
   "cell_type": "code",
   "execution_count": 7,
   "metadata": {},
   "outputs": [],
   "source": [
    "# drop na NAICS and na Start date\n",
    "df1 = df.dropna(subset=['NAICS', 'LOCATION START DATE'])"
   ]
  },
  {
   "cell_type": "code",
   "execution_count": 17,
   "metadata": {},
   "outputs": [
    {
     "name": "stderr",
     "output_type": "stream",
     "text": [
      "C:\\Users\\Eric\\AppData\\Local\\Temp\\ipykernel_26440\\1167118112.py:4: SettingWithCopyWarning: \n",
      "A value is trying to be set on a copy of a slice from a DataFrame.\n",
      "Try using .loc[row_indexer,col_indexer] = value instead\n",
      "\n",
      "See the caveats in the documentation: https://pandas.pydata.org/pandas-docs/stable/user_guide/indexing.html#returning-a-view-versus-a-copy\n",
      "  df1['Year'] = df1['LOCATION START DATE'].dt.year\n"
     ]
    },
    {
     "data": {
      "image/png": "[encoded data removed]",
      "text/plain": [
       "<Figure size 640x480 with 1 Axes>"
      ]
     },
     "metadata": {},
     "output_type": "display_data"
    }
   ],
   "source": [
    "import seaborn as sns\n",
    "import matplotlib.pyplot as plt\n",
    "year_start, year_end = 1990, df1[\"Year\"].max()\n",
    "df1['Year'] = df1['LOCATION START DATE'].dt.year\n",
    "plot1 = sns.histplot(df1['Year'], bins=range(year_start, year_end), kde=False)\n",
    "plot1 = plt.title(f'Preview: Business open year histogram {year_start} to {year_end}')"
   ]
  },
  {
   "cell_type": "code",
   "execution_count": 12,
   "metadata": {},
   "outputs": [
    {
     "name": "stdout",
     "output_type": "stream",
     "text": [
      "<class 'pandas.core.frame.DataFrame'>\n",
      "Index: 624379 entries, 0 to 1593025\n",
      "Data columns (total 17 columns):\n",
      " #   Column                     Non-Null Count   Dtype         \n",
      "---  ------                     --------------   -----         \n",
      " 0   LOCATION ACCOUNT #         624379 non-null  object        \n",
      " 1   BUSINESS NAME              624379 non-null  object        \n",
      " 2   DBA NAME                   209427 non-null  object        \n",
      " 3   STREET ADDRESS             624375 non-null  object        \n",
      " 4   CITY                       624332 non-null  object        \n",
      " 5   ZIP CODE                   624379 non-null  object        \n",
      " 6   LOCATION DESCRIPTION       624361 non-null  object        \n",
      " 7   MAILING ADDRESS            297306 non-null  object        \n",
      " 8   MAILING CITY               297315 non-null  object        \n",
      " 9   MAILING ZIP CODE           297208 non-null  object        \n",
      " 10  NAICS                      624379 non-null  Int64         \n",
      " 11  PRIMARY NAICS DESCRIPTION  624379 non-null  object        \n",
      " 12  COUNCIL DISTRICT           624379 non-null  int64         \n",
      " 13  LOCATION START DATE        624379 non-null  datetime64[ns]\n",
      " 14  LOCATION END DATE          93433 non-null   datetime64[ns]\n",
      " 15  LOCATION                   584441 non-null  object        \n",
      " 16  Year                       624379 non-null  int32         \n",
      "dtypes: Int64(1), datetime64[ns](2), int32(1), int64(1), object(12)\n",
      "memory usage: 84.0+ MB\n"
     ]
    }
   ],
   "source": [
    "df1.info()"
   ]
  },
  {
   "cell_type": "markdown",
   "metadata": {},
   "source": [
    "#### NAICS info"
   ]
  },
  {
   "cell_type": "code",
   "execution_count": 13,
   "metadata": {},
   "outputs": [],
   "source": [
    "file_path = 'dataset\\\\naics_2_clean.csv'\n",
    "naics_2 = pd.read_csv(file_path)"
   ]
  },
  {
   "cell_type": "code",
   "execution_count": 14,
   "metadata": {},
   "outputs": [],
   "source": [
    "naics_dict = naics_2.set_index('Code')['Sector_Title'].to_dict()"
   ]
  },
  {
   "cell_type": "code",
   "execution_count": 15,
   "metadata": {},
   "outputs": [
    {
     "name": "stderr",
     "output_type": "stream",
     "text": [
      "C:\\Users\\fredk\\AppData\\Local\\Temp\\ipykernel_12492\\1311135580.py:1: SettingWithCopyWarning: \n",
      "A value is trying to be set on a copy of a slice from a DataFrame.\n",
      "Try using .loc[row_indexer,col_indexer] = value instead\n",
      "\n",
      "See the caveats in the documentation: https://pandas.pydata.org/pandas-docs/stable/user_guide/indexing.html#returning-a-view-versus-a-copy\n",
      "  df1['NAICS_2'] = df1['NAICS'].astype(str).str[:2].astype(int)\n",
      "C:\\Users\\fredk\\AppData\\Local\\Temp\\ipykernel_12492\\1311135580.py:2: SettingWithCopyWarning: \n",
      "A value is trying to be set on a copy of a slice from a DataFrame.\n",
      "Try using .loc[row_indexer,col_indexer] = value instead\n",
      "\n",
      "See the caveats in the documentation: https://pandas.pydata.org/pandas-docs/stable/user_guide/indexing.html#returning-a-view-versus-a-copy\n",
      "  df1['2d_title'] = df1['NAICS_2'].map(naics_dict)\n"
     ]
    }
   ],
   "source": [
    "df1['NAICS_2'] = df1['NAICS'].astype(str).str[:2].astype(int)\n",
    "df1['2d_title'] = df1['NAICS_2'].map(naics_dict)"
   ]
  },
  {
   "cell_type": "markdown",
   "metadata": {},
   "source": [
    "### GeoGraph"
   ]
  },
  {
   "cell_type": "code",
   "execution_count": 42,
   "metadata": {},
   "outputs": [],
   "source": [
    "import folium\n",
    "import geopy\n",
    "import pandas as pd\n",
    "import numpy as np\n",
    "from folium.plugins import MarkerCluster"
   ]
  },
  {
   "cell_type": "code",
   "execution_count": 24,
   "metadata": {},
   "outputs": [
    {
     "name": "stdout",
     "output_type": "stream",
     "text": [
      "{'LOS ANGELES': 304131, 'VAN NUYS': 22623, 'NORTH HOLLYWOOD': 18613, 'SHERMAN OAKS': 16167, 'WOODLAND HILLS': 14213, 'ENCINO': 11462, 'NORTHRIDGE': 10279, 'STUDIO CITY': 7796, 'CANOGA PARK': 7792, 'RESEDA': 7390, 'TARZANA': 7181, 'CHATSWORTH': 6407, 'SAN PEDRO': 6273, 'SUN VALLEY': 6056, 'VENICE': 5864, 'SYLMAR': 5850, 'PANORAMA CITY': 5801, 'GRANADA HILLS': 5651, 'PACOIMA': 4737, 'NORTH HILLS': 4329, 'GLENDALE': 4178, 'VALLEY VILLAGE': 4176, 'WEST HILLS': 4143, 'WINNETKA': 3670, 'BEVERLY HILLS': 3628, 'N HOLLYWOOD': 3620, 'WILMINGTON': 3590, 'BURBANK': 3480, 'TORRANCE': 3175, 'MARINA DEL REY': 3124, 'PACIFIC PALISADES': 3093, 'SANTA MONICA': 3049, 'WEST HOLLYWOOD': 2762, 'CULVER CITY': 2681, 'ARLETA': 2634, 'TUJUNGA': 2626, 'GARDENA': 2535, 'LONG BEACH': 2329, 'INGLEWOOD': 1998, 'PASADENA': 1956, 'SUNLAND': 1895, 'MISSION HILLS': 1862, 'PORTER RANCH': 1857, 'HARBOR CITY': 1600, 'SAN FERNANDO': 1499, 'PLAYA DEL REY': 1464, 'PALMDALE': 1427, 'TOLUCA LAKE': 1319, 'SIMI VALLEY': 1273, 'CALABASAS': 1269, 'SANTA CLARITA': 1249, 'ANAHEIM': 1040, 'LANCASTER': 1037, 'VALENCIA': 1002, 'HAWTHORNE': 943, 'VERNON': 924, 'COMPTON': 904, 'CANYON COUNTRY': 882, 'RIVERSIDE': 833, 'WHITTIER': 820, 'AGOURA HILLS': 806, 'HOLLYWOOD': 796, 'IRVINE': 785, 'LAKE BALBOA': 760, 'CARSON': 752, 'REDONDO BEACH': 719, 'NEW YORK': 673, 'ALHAMBRA': 641, 'SAN DIEGO': 639, 'DOWNEY': 638, 'PLAYA VISTA': 619, 'SANTA ANA': 610, 'WESTLAKE VILLAGE': 608, 'LA CRESCENTA': 593, 'CORONA': 577, 'THOUSAND OAKS': 571, 'EL SEGUNDO': 547, 'ALTADENA': 531, 'SOUTH GATE': 526, 'ORANGE': 523, 'HUNTINGTON PARK': 515, 'ONTARIO': 512, 'SANTA FE SPRINGS': 497, 'COMMERCE': 491, 'HUNTINGTON BEACH': 489, 'MONTEBELLO': 461, 'MONTEREY PARK': 454, 'RANCHO CUCAMONGA': 450, 'SACRAMENTO': 447, 'WEST COVINA': 442, 'POMONA': 437, 'EL MONTE': 429, 'NEWHALL': 425, 'ARCADIA': 422, 'FULLERTON': 419, 'MALIBU': 415, 'VALLEY GLEN': 413, 'COVINA': 407, 'LA PUENTE': 402, 'FONTANA': 395, 'SAN GABRIEL': 391, 'NORWALK': 368, 'BELLFLOWER': 360, 'MANHATTAN BEACH': 357, 'OXNARD': 350, 'LYNWOOD': 349, 'BAKERSFIELD': 349, 'PARAMOUNT': 347, 'CERRITOS': 339, 'RANCHO PALOS VERDES': 337, 'SOUTH PASADENA': 336, 'CHINO': 336, 'SAN FRANCISCO': 334, 'LAWNDALE': 333, 'COSTA MESA': 331, 'TOPANGA': 329, 'VENTURA': 329, 'LAKE VIEW TERRACE': 319, 'MONROVIA': 317, 'GARDEN GROVE': 317, 'GLENDORA': 304, 'PICO RIVERA': 303, 'LAKEWOOD': 287, 'BALDWIN PARK': 286, 'LOMITA': 285, 'CAMARILLO': 277, 'SAN BERNARDINO': 271, 'ROSEMEAD': 271, 'BUENA PARK': 269, 'UPLAND': 269, 'NEWPORT BEACH': 268, 'LAS VEGAS': 267, 'BELL GARDENS': 264, 'NEWBURY PARK': 253, 'AZUSA': 250, 'HACIENDA HEIGHTS': 246, 'WALNUT': 232, 'SAN DIMAS': 232, 'CASTAIC': 230, 'MOORPARK': 227, 'BREA': 224, 'MORENO VALLEY': 220, 'TUSTIN': 217, 'SHERWOOD FOREST': 212, 'TEMECULA': 210, 'ROWLAND HEIGHTS': 206, 'CITY OF INDUSTRY': 204, 'SIGNAL HILL': 201, 'HERMOSA BEACH': 195, 'MONTROSE': 193, 'STEVENSON RANCH': 193, 'MURRIETA': 191, 'LA MIRADA': 189, 'WESTCHESTER': 188, 'DIAMOND BAR': 188, 'LA HABRA': 187, 'VIEW PARK': 180, 'LA CANADA': 175, 'SHADOW HILLS': 171, 'YORBA LINDA': 166, 'TEMPLE CITY': 165, 'CHINO HILLS': 164, 'CYPRESS': 157, 'CHICAGO': 155, 'DUARTE': 155, 'BELL': 153, 'ACTON': 151, 'PERRIS': 149, 'HOUSTON': 145, 'VICTORVILLE': 140, 'SANTA BARBARA': 139, 'LAKE ELSINORE': 135, 'LA VERNE': 135, 'MAYWOOD': 134, 'LITTLEROCK': 134, 'OCEANSIDE': 132, 'LAKE FOREST': 130, 'WESTMINSTER': 130, 'PLACENTIA': 130, 'SOUTH EL MONTE': 129, 'FOUNTAIN VALLEY': 128, 'CARLSBAD': 126, 'HESPERIA': 124, 'OAKLAND': 122, 'RIALTO': 121, 'LOS ALAMITOS': 121, 'ROLLING HILLS ESTATES': 120, 'OAK PARK': 119, 'SAN JOSE': 118, 'PHOENIX': 118, 'CLAREMONT': 117, 'CUDAHY': 116, 'FRESNO': 115, 'CENTURY CITY': 114, 'NORCO': 114, 'ESCONDIDO': 111, 'WASHINGTON': 108, 'MISSION VIEJO': 105, 'LAGUNA HILLS': 105, 'SAN CLEMENTE': 102, 'EAGLE ROCK': 101, 'ATLANTA': 101, 'SAUGUS': 101, 'MONTCLAIR': 96, 'SEATTLE': 94, 'REDLANDS': 91, 'PORTLAND': 91, 'NEW HYDE PARK': 89, 'SAN MARINO': 89, 'DALLAS': 89, 'BROOKLYN': 87, 'AUSTIN': 87, 'LAGUNA BEACH': 86, 'VISTA': 84, 'LA CANADA FLINTRIDGE': 82, 'LAGUNA NIGUEL': 82, 'PALM DESERT': 81, 'UNIVERSAL CITY': 80, 'PALOS VERDES ESTATES': 79, 'EL CAJON': 79, 'PALM SPRINGS': 78, 'HIGHLAND PARK': 77, 'IRWINDALE': 77, 'JURUPA VALLEY': 77, 'SIERRA MADRE': 76, 'ALISO VIEJO': 73, 'COLTON': 73, 'MENIFEE': 71, 'HEMET': 68, 'SEAL BEACH': 67, 'STANTON': 67, 'APPLE VALLEY': 66, 'AGUA DULCE': 66, 'ARTESIA': 65, 'EASTVALE': 64, 'NASHVILLE': 64, 'CHULA VISTA': 63, 'BOSTON': 63, 'SCOTTSDALE': 62, 'SAN MARCOS': 61, 'BLOOMINGTON': 61, 'YUCAIPA': 61, 'BELL CANYON': 60, 'DENVER': 59, 'SANTA PAULA': 58, 'RANCHO SANTA MARGARITA': 57, 'SAN JUAN CAPISTRANO': 57, 'WILDOMAR': 57, 'S EL MONTE': 57, 'OJAI': 57, 'DANA POINT': 56, 'ALTA LOMA': 56, 'RANCHO CASCADES': 54, 'HIGHLAND': 53, 'W HOLLYWOOD': 52, 'MIAMI': 52, 'HENDERSON': 51, 'HIDDEN HILLS': 49, 'SAINT LOUIS': 48, 'RANCHO DOMINGUEZ': 47, 'HAWAIIAN GARDENS': 47, 'FALLBROOK': 45, 'PHILADELPHIA': 45, 'SALT LAKE CITY': 45, 'ROSEVILLE': 44, 'SANTA CLARA': 44, 'MINNEAPOLIS': 44, 'LA HABRA HEIGHTS': 42, 'SAN ANTONIO': 42, 'LA QUINTA': 41, 'ARLINGTON': 41, 'PALOS VERDES PENINSULA': 40, 'PORT HUENEME': 40, 'CHARLOTTE': 40, 'INDIO': 40, 'HAYWARD': 40, 'SAN JACINTO': 40, 'BEAUMONT': 39, 'WEST LOS ANGELES': 39, 'DESERT HOT SPRINGS': 38, 'MIRA LOMA': 38, 'SANTA ROSA': 37, 'PHELAN': 36, 'ORLANDO': 36, 'CONCORD': 36, 'LA PALMA': 36, 'FREMONT': 36, 'CANYON LAKE': 36, 'QUARTZ HILL': 35, 'PLANO': 35, 'S PASADENA': 35, 'AGOURA': 34, 'FILLMORE': 34, 'SAN MATEO': 34, 'REDDING': 34, 'POWAY': 34, 'CHANDLER': 34, 'BERKELEY': 34, 'LAKE VIEW TER': 34, 'WALNUT CREEK': 33, 'TUCSON': 33, 'ADELANTO': 33, 'RENO': 33, 'LONGWOOD': 33, 'IRVING': 32, 'TEMPE': 32, 'LA JOLLA': 32, 'RANCHO MIRAGE': 32, 'SANTEE': 31, 'COLUMBUS': 31, 'OAK HILLS': 31, 'CARPINTERIA': 31, 'ENCINITAS': 31, 'HACIENDA HTS': 30, 'CATHEDRAL CITY': 30, 'VISALIA': 30, 'FAIRFIELD': 30, 'MODESTO': 29, 'ALEXANDRIA': 29, 'WALNUT PARK': 29, 'ALPHARETTA': 28, 'SANTA MARIA': 27, 'CINCINNATI': 27, 'FORT WORTH': 27, 'FORT LAUDERDALE': 27, 'BISHOP': 27, 'LADERA RANCH': 26, 'RICHMOND': 26, 'STOCKTON': 26, 'TAMPA': 26, 'EAST LOS ANGELES': 26, 'PITTSBURGH': 25, 'CALIFORNIA CITY': 25, 'WOODLAND HLS': 25, 'FRAZIER PARK': 25, 'BANNING': 25, 'WINDSOR HILLS': 25, 'SANTA ROSA VALLEY': 25, 'TEHACHAPI': 25, 'SAN LUIS OBISPO': 25, 'LOUISVILLE': 25, 'WINCHESTER': 25, 'MESA': 25, 'REDWOOD CITY': 25, 'INDIANAPOLIS': 25, 'RESTON': 25, 'CORONA DEL MAR': 24, 'YUCCA VALLEY': 24, 'LIVERMORE': 24, 'LENNOX': 24, 'MILWAUKEE': 24, 'WHITE PLAINS': 24, 'PALO ALTO': 24, 'BURLINGAME': 24, 'ALAMEDA': 23, 'SAN RAFAEL': 23, 'ROSAMOND': 23, 'RANCHO CORDOVA': 23, 'SUNNYVALE': 23, 'BELLEVUE': 23, 'ROCKLIN': 22, 'SAN RAMON': 22, 'JACKSONVILLE': 22, 'LAKESIDE': 22, 'HUNTINGTN BCH': 22, 'AURORA': 22, 'ENGLEWOOD': 22, 'GRAND TERRACE': 22, 'LAKE HUGHES': 22, 'PLEASANTON': 22, 'HERNDON': 21, 'LOMA LINDA': 21, 'FOLSOM': 21, 'BOULDER': 21, 'NEWARK': 20, 'BOISE': 20, 'CALIMESA': 20, 'SOUTH SAN FRANCISCO': 20, 'RALEIGH': 20, 'COLUMBIA': 20, 'VILLA PARK': 20, 'GOLETA': 20, 'WEST TOLUCA LAKE': 20, 'SOMIS': 19, 'CLOVIS': 19, 'SAN LEANDRO': 19, 'SEPULVEDA': 19, 'BALTIMORE': 19, 'PASO ROBLES': 19, 'FRANKLIN': 19, 'LONG ISLAND CITY': 18, 'CLEVELAND': 18, 'DUBLIN': 18, 'CRESTLINE': 18, 'DOVER': 18, 'ALBUQUERQUE': 18, 'CAMPBELL': 18, 'PLYMOUTH': 18, 'BETHESDA': 18, 'MADISON': 18, 'BURLINGTON': 17, 'OVERLAND PARK': 17, 'ROCHESTER': 17, 'KANSAS CITY': 17, 'SUN CITY': 17, 'BOCA RATON': 17, 'LEHI': 17, 'EL DORADO HILLS': 16, 'TULSA': 16, 'OKLAHOMA CITY': 16, 'SALINAS': 16, 'LENEXA': 16, 'ANTIOCH': 16, 'BIRMINGHAM': 16, 'PETALUMA': 16, 'COLORADO SPRINGS': 16, 'PORTERVILLE': 16, 'MEMPHIS': 16, 'FOOTHILL RANCH': 16, 'LEONA VALLEY': 16, 'LAFAYETTE': 15, 'PROVO': 15, 'WOODBURY': 15, 'TRABUCO CANYON': 15, 'ELK GROVE': 15, 'BEND': 15, 'WAYNE': 15, 'CAMBRIDGE': 15, 'WEST SACRAMENTO': 15, 'HONOLULU': 15, 'ROCKVILLE': 15, 'SAN YSIDRO': 15, 'MARIETTA': 15, 'LAKE ARROWHEAD': 15, 'OMAHA': 15, 'JOSHUA TREE': 15, 'BRENTWOOD': 14, 'VANCOUVER': 14, 'BENICIA': 14, 'SPARKS': 14, 'SANTA CRUZ': 14, 'SPRING VALLEY': 14, 'LA MESA': 14, 'CARMEL': 14, 'NATIONAL CITY': 14, 'CHEYENNE': 14, 'CARROLLTON': 14, 'VIRGINIA BEACH': 14, 'PARSIPPANY': 14, 'ARROYO GRANDE': 14, 'ADDISON': 14, 'LEXINGTON': 14, 'VAL VERDE': 14, 'GRAND RAPIDS': 14, 'SALEM': 13, 'NUEVO': 13, 'RAMONA': 13, 'EMERYVILLE': 13, 'STAMFORD': 13, 'DANVILLE': 13, 'TROY': 13, 'BARSTOW': 13, 'SPRINGFIELD': 13, 'REDMOND': 13, 'WICHITA': 13, 'MONTEREY': 13, 'AUBURN': 13, 'ANN ARBOR': 13, 'NORCROSS': 13, 'MOUNTAIN VIEW': 13, 'RICHARDSON': 13, 'GREENVILLE': 13, 'KENT': 13, 'CHATTANOOGA': 12, 'DETROIT': 12, 'VALLEJO': 12, 'CHARLESTON': 12, 'ARVADA': 12, 'DULUTH': 12, 'CHICO': 12, 'BUFFALO': 12, 'SANTA FE': 12, 'TULARE': 12, 'SAINT PAUL': 12, 'OAK VIEW': 12, 'ATASCADERO': 12, 'NAPA': 12, 'ROLLING HILLS': 12, 'MILPITAS': 12, 'HELENDALE': 12, 'GREENSBORO': 12, 'DAVIS': 12, 'SHERIDAN': 12, 'DURHAM': 11, 'NORTH LAS VEGAS': 11, 'MADERA': 11, 'BROOMFIELD': 11, 'EUGENE': 11, 'GILBERT': 11, 'SOUTHFIELD': 11, 'GREENWOOD VILLAGE': 11, 'PEORIA': 11, 'PACIFIC PLSDS': 11, 'WALTHAM': 11, 'UNION CITY': 11, 'CORAL GABLES': 11, 'CENTENNIAL': 11, 'LONDON': 11, 'FAIRFAX': 11, 'SOLVANG': 11, 'LAGUNA WOODS': 11, 'NIPOMO': 11, 'WOODINVILLE': 10, 'NOVATO': 10, 'VALLEY VLG': 10, 'LINCOLN': 10, 'SCHAUMBURG': 10, 'MAMMOTH LAKES': 10, 'CITRUS HEIGHTS': 10, 'JERICHO': 10, 'HANSEN HILLS': 10, 'STERLING': 10, 'MOJAVE': 10, 'SARASOTA': 10, 'ROSWELL': 10, 'TWENTYNINE PALMS': 10, 'ALBANY': 10, 'PARK CITY': 10, 'LODI': 10, 'VALLEY CENTER': 10, 'BIG BEAR CITY': 10, 'COACHELLA': 10, 'MIRAMAR': 10, 'GLASSELL PARK': 10, 'KAGEL CANYON': 9, 'MIDWAY CITY': 9, 'BASKING RIDGE': 9, 'GOLDEN': 9, 'SAN CARLOS': 9, 'MCLEAN': 9, 'FAYETTEVILLE': 9, 'ALPINE': 9, 'TACOMA': 9, 'MILL VALLEY': 9, 'LINCOLN HEIGHTS': 9, 'TRACY': 9, 'CARMICHAEL': 9, 'BRADBURY': 9, 'CHERRY VALLEY': 9, 'VERDUGO CITY': 9, 'BATON ROUGE': 9, 'WINDSOR': 9, 'PINON HILLS': 9, 'GEORGETOWN': 9, 'EAGLE': 9, 'DEL MAR': 9, 'NEW ORLEANS': 9, 'WOBURN': 9, 'LOMPOC': 9, 'PRINCETON': 9, 'MARLBOROUGH': 9, 'SEBASTOPOL': 9, 'SANFORD': 9, 'PLEASANT HILL': 8, 'MILFORD': 8, 'MIDDLETOWN': 8, 'NEWTON': 8, 'LOS GATOS': 8, 'VACAVILLE': 8, 'WOODLAND': 8, 'LYNNWOOD': 8, 'JERSEY CITY': 8, 'KENNESAW': 8, 'CLEARWATER': 8, 'COPPELL': 8, 'SPOKANE': 8, 'DES MOINES': 8, 'PEARBLOSSOM': 8, 'WINTER PARK': 8, 'KALAMAZOO': 8, 'HAUPPAUGE': 8, 'DECATUR': 8, 'WESTPORT': 8, 'NAPERVILLE': 8, 'FAIR OAKS': 8, 'DOWNERS GROVE': 8, 'CARY': 8, 'ANNAPOLIS': 8, 'BELLINGHAM': 8, 'CANYON CNTRY': 8, 'LOVELAND': 8, 'ROUND ROCK': 8, 'EDEN PRAIRIE': 8, 'WRIGHTWOOD': 8, 'BIG BEAR LAKE': 8, 'CAMDEN': 8, 'CHANTILLY': 7, 'CARSON CITY': 7, 'LEMON GROVE': 7, 'PINE MOUNTAIN CLUB': 7, 'NORTH CANTON': 7, 'LAKE HAVASU CITY': 7, 'MENLO PARK': 7, 'CORAL SPRINGS': 7, 'RANCHO SANTA FE': 7, 'WOODCLIFF LAKE': 7, 'MC LEAN': 7, 'CAPISTRANO BEACH': 7, 'HORSHAM': 7, 'LLANO': 7, 'CASPER': 7, 'MARTINEZ': 7, 'CHESTERFIELD': 7, 'FREDERICK': 7, 'LITTLETON': 7, 'BALDWIN HILLS': 7, 'COVINGTON': 7, 'EVERETT': 7, 'WEST CHESTER': 7, 'EDISON': 7, 'LEWISVILLE': 7, 'LEWES': 7, 'ASHBURN': 7, 'NORTHFIELD': 7, 'SIOUX FALLS': 7, 'GRAND PRAIRIE': 7, 'KIRKLAND': 7, 'PRESCOTT': 7, 'FLORHAM PARK': 7, 'MINDEN': 7, 'BONITA': 7, 'BEAVERTON': 7, 'THE WOODLANDS': 7, 'GREENWICH': 7, 'HANFORD': 7, 'RENTON': 7, 'SAINT PETERSBURG': 7, 'EARTH CITY': 7, 'EXTON': 7, 'MENOMONEE FALLS': 7, 'KINGMAN': 7, 'NAPLES': 7, 'KEENE': 7, 'PURCHASE': 7, 'MENTONE': 7, 'MAHWAH': 7, 'TUALATIN': 7, 'MCCLELLAN': 7, 'HUNTINGTON PK': 7, 'VIENNA': 7, 'WESTON': 6, 'FITCHBURG': 6, 'CALEXICO': 6, 'FRISCO': 6, 'SOMERSET': 6, 'CONROE': 6, 'DEERFIELD': 6, 'MELBOURNE': 6, 'GRANITE BAY': 6, 'BEDFORD': 6, 'AUBURN HILLS': 6, 'CARDIFF BY THE SEA': 6, 'BUFORD': 6, 'SOUTH JORDAN': 6, 'FORT COLLINS': 6, 'WESTLAKE VLG': 6, 'CHELMSFORD': 6, 'PARKER': 6, 'SHELTON': 6, 'CONSHOHOCKEN': 6, 'SILVER SPRING': 6, 'ALLENTOWN': 6, 'KNOXVILLE': 6, 'TORONTO': 6, 'GRASS VALLEY': 6, 'SONOMA': 6, 'LINCOLNSHIRE': 6, 'EL PASO': 6, 'HIGHLANDS RANCH': 6, 'MALVERN': 6, 'DAYTON': 6, 'GAINESVILLE': 6, 'LAKE MARY': 6, 'JUPITER': 6, 'HOLLISTER': 6, 'MOUNT PLEASANT': 6, 'ORINDA': 6, 'DELANO': 6, 'COLLEGE STATION': 6, 'FORT MYERS': 6, 'VERNON HILLS': 6, 'FRAMINGHAM': 6, 'EAGAN': 6, 'CANONSBURG': 6, 'EAST RANCHO DOMINGUEZ': 6, 'JASPER': 6, 'LEBEC': 6, 'MARINA DL REY': 6, 'SANTA YNEZ': 6, 'PITTSBURG': 6, 'THERMAL': 6, 'WALLINGFORD': 6, 'ASHLAND': 6, 'HUNTSVILLE': 6, 'FENTON': 6, 'MARYSVILLE': 6, 'HARTFORD': 6, 'HOMELAND': 6, 'CEDAR RAPIDS': 6, 'BOZEMAN': 6, 'MANCHESTER': 6, 'SUGAR LAND': 6, 'LOGAN': 6, 'GARDEN CITY': 5, 'ELGIN': 5, 'NEWTOWN SQUARE': 5, 'EL CENTRO': 5, 'CARDIFF': 5, 'TUKWILA': 5, 'AMERICAN FORK': 5, 'NEEDHAM': 5, 'LAKE OSWEGO': 5, 'JAMAICA': 5, 'GERMANTOWN': 5, 'TURLOCK': 5, 'NORTHBROOK': 5, 'CANTON': 5, 'IMPERIAL BEACH': 5, 'LISLE': 5, 'ITASCA': 5, 'UNION': 5, 'CUPERTINO': 5, 'VERO BEACH': 5, 'CAMERON PARK': 5, 'MELVILLE': 5, 'OREM': 5, 'PALMETTO': 5, 'BURNSVILLE': 5, 'PHILLIPS RANCH': 5, 'LAWRENCEVILLE': 5, 'BOYNTON BEACH': 5, 'SEDONA': 5, 'GAITHERSBURG': 5, 'SMYRNA': 5, 'PEBBLE BEACH': 5, 'MANTECA': 5, 'BUFFALO GROVE': 5, 'MERCED': 5, 'PEMBROKE PINES': 5, 'SECAUCUS': 5, 'INCLINE VILLAGE': 5, 'FAIRPORT': 5, 'EVANSTON': 5, 'CORONADO': 5, 'EL CERRITO': 5, 'DEARBORN': 5, 'WARREN': 5, 'WATSONVILLE': 5, 'THOUSAND PALMS': 5, 'COTTONWOOD HEIGHTS': 5, 'MORRISTOWN': 5, 'SYRACUSE': 5, 'FRANKLIN PARK': 5, 'BREWSTER': 5, 'SPARTANBURG': 5, 'CALDWELL': 5, 'BLOOMFIELD': 5, 'DORAL': 5, 'KATY': 5, 'COARSEGOLD': 5, 'PIRAEUS': 5, 'LEESBURG': 5, 'JACKSON': 5, 'INDEPENDENCE': 5, 'OGDEN': 5, 'TALLAHASSEE': 5, 'MOORESTOWN': 5, 'RUNNING SPRINGS': 5, 'SAN PABLO': 5, 'CASTRO VALLEY': 5, 'PORT WASHINGTON': 5, 'MORRISVILLE': 5, 'APTOS': 5, 'LAKE SHERWOOD': 5, 'SANDY': 5, 'FOSTER CITY': 5, 'GREENWOOD': 5, 'PEACHTREE CITY': 5, 'MORRO BAY': 5, 'HANOVER': 5, 'MOBILE': 5, 'HOOD RIVER': 5, 'DEERFIELD BEACH': 5, 'ROHNERT PARK': 5, 'INDIAN WELLS': 5, 'GROVER BEACH': 5, 'WAUKESHA': 5, 'SAMMAMISH': 5, 'HILLSBORO': 5, 'PENNSAUKEN': 5, 'HAMILTON': 5, 'ATHENS': 5, 'LITTLE ROCK': 5, 'MONTGOMERY': 5, 'DRAPER': 5, 'MARYLAND HEIGHTS': 4, 'RIPON': 4, 'NORTH SALT LAKE': 4, 'LOOMIS': 4, 'NEW BRAUNFELS': 4, 'LOWELL': 4, 'SHINGLE SPRINGS': 4, 'TITUSVILLE': 4, 'LOS OSOS': 4, 'COTO DE CAZA': 4, 'ROSSMOOR': 4, 'CENTREVILLE': 4, 'MONTECITO': 4, 'LIVONIA': 4, 'WILLIAMSBURG': 4, 'MIDLAND': 4, 'OLDSMAR': 4, 'BLUE BELL': 4, 'FREEHOLD': 4, 'TWIN PEAKS': 4, 'EDMONDS': 4, 'LANHAM': 4, 'BRISTOL': 4, 'TIBURON': 4, 'HEALDSBURG': 4, 'CLAYTON': 4, 'CALIENTE': 4, 'WEST LAKE HILLS': 4, 'BEACHWOOD': 4, 'COEUR D ALENE': 4, 'MCDONOUGH': 4, 'LUFKIN': 4, 'PORTSMOUTH': 4, 'FISHERS': 4, 'EXETER': 4, 'BEL AIR': 4, 'FERNDALE': 4, 'AVENTURA': 4, 'BUELLTON': 4, 'PEABODY': 4, 'WESTFIELD': 4, 'PISCATAWAY': 4, 'NEWPORT COAST': 4, 'GOLD RIVER': 4, 'ROCKFORD': 4, 'CRANBERRY TOWNSHIP': 4, 'NASHUA': 4, 'DALY CITY': 4, 'FREDERICKSBURG': 4, 'GREEN VALLEY': 4, 'YORK': 4, 'POMPANO BEACH': 4, 'UTICA': 4, 'LIBERTYVILLE': 4, 'EAST SYRACUSE': 4, 'ITHACA': 4, 'ST PETERSBURG': 4, 'PLACERVILLE': 4, 'GARDNERVILLE': 4, 'FALLS CHURCH': 4, 'PIRU': 4, 'NORTH CHESTERFIELD': 4, 'MERIDIAN': 4, 'CERES': 4, 'SPOKANE VALLEY': 4, 'EDGEWATER': 4, 'BILLINGS': 4, 'MOUNT LAUREL': 4, 'FARMINGTON': 4, 'WATERTOWN': 4, 'NORTH PALM BEACH': 4, 'TUCKER': 4, 'MARLTON': 4, 'SOUTH LAKE TAHOE': 4, 'MONROE': 4, 'POULSBO': 4, 'DAYTONA BEACH': 4, 'IDYLLWILD': 4, 'BRONX': 4, 'SOLANA BEACH': 4, 'WARRENDALE': 4, 'NORTHVALE': 4, 'CHAMPAIGN': 4, 'BRISBANE': 4, 'LARKSPUR': 4, 'OROVILLE': 4, 'WEST PALM BEACH': 4, 'KENOSHA': 4, 'NOVI': 4, 'AMHERST': 4, 'LONGMONT': 4, 'LINDON': 4, 'MORGAN HILL': 4, 'NEWPORT': 4, 'AGUANGA': 4, 'LONE PINE': 4, 'SUWANEE': 4, 'SANTA FE SPGS': 4, 'OLATHE': 4, 'FARMINGTON HILLS': 4, 'OLYMPIA': 4, 'PENN VALLEY': 4, 'ROLLING MEADOWS': 4, 'SOMERVILLE': 4, 'ORO GRANDE': 4, 'HAWAIIAN GDNS': 4, 'ELK GROVE VILLAGE': 4, 'MENASHA': 4, 'SHORELINE': 4, 'JOHNS CREEK': 4, 'CHERRY HILL': 4, 'NORFOLK': 4, 'CEDAR CITY': 4, 'SPARTA': 4, 'CAMBRIA': 4, 'MILTON': 4, 'ASHEVILLE': 4, 'SILVERADO': 4, 'RAWLINS': 4, 'AVALON': 4, 'KAYSVILLE': 4, 'OAKDALE': 4, 'SARATOGA': 4, 'ARLINGTON HEIGHTS': 4, 'CHARLOTTESVILLE': 4, 'OAK RIDGE': 4, 'MANHATTAN': 4, 'STATESVILLE': 4, 'FARGO': 4, 'RIDGECREST': 4, 'KING OF PRUSSIA': 4, 'SOLON': 4, 'HOPKINS': 3, 'FARMINGDALE': 3, 'UKIAH': 3, 'SEDALIA': 3, 'FORT WAYNE': 3, 'GOODYEAR': 3, 'NEWBERG': 3, 'JONESBORO': 3, 'LELAND': 3, 'MILLBRAE': 3, 'WOODLAKE': 3, 'LONGVIEW': 3, 'FLUSHING': 3, 'SOUTHAMPTON': 3, 'GLEN BURNIE': 3, 'BLUE JAY': 3, 'WASHOUGAL': 3, 'KANNAPOLIS': 3, 'DEER PARK': 3, 'STUART': 3, 'ROCHESTER HILLS': 3, 'EDMOND': 3, 'LAKEVIEW TERRACE': 3, 'LAKE ZURICH': 3, 'SAINT JOSEPH': 3, 'BROOKFIELD': 3, 'MURRAY': 3, 'KENSINGTON': 3, 'TYLER': 3, 'LOS ALTOS': 3, 'ALAMO': 3, 'SPICEWOOD': 3, 'OAKLEY': 3, 'HOBOKEN': 3, 'SCHERTZ': 3, 'CLOVERDALE': 3, 'VASHON': 3, 'CLIFTON': 3, 'WELLINGTON': 3, 'FORT SMITH': 3, 'MASON': 3, 'BRUNSWICK': 3, 'WHITESBORO': 3, 'ASTORIA': 3, 'ANDERSON': 3, 'WOODSIDE': 3, 'BRIDGEWATER': 3, 'WEST LINN': 3, 'MARIPOSA': 3, 'RAMSEY': 3, 'PARK RIDGE': 3, 'IMPERIAL': 3, 'BETHEL': 3, 'SAINT CLOUD': 3, 'VINELAND': 3, 'WHIPPANY': 3, 'CHESAPEAKE': 3, 'ORO VALLEY': 3, 'THE COLONY': 3, 'REEDLEY': 3, 'LUBBOCK': 3, 'MANSFIELD': 3, 'RIDGEFIELD': 3, 'NEW HAVEN': 3, 'MIAMI BEACH': 3, 'DICKINSON': 3, 'SHREVEPORT': 3, 'TEMPLE': 3, 'THORNTON': 3, 'LINTHICUM': 3, 'BULLHEAD CITY': 3, 'RANCHO MISSION VIEJO': 3, 'HILLSBOROUGH': 3, 'WESTWOOD': 3, 'NEENAH': 3, 'OCALA': 3, 'BERMUDA DUNES': 3, 'EATONTOWN': 3, 'JOHNSON VALLEY': 3, 'MIAMISBURG': 3, 'PACIFIC GROVE': 3, 'SAUSALITO': 3, 'EVANSVILLE': 3, 'SPRING': 3, 'ROMOLAND': 3, 'READING': 3, 'PANORAMA': 3, 'ALTAMONTE SPRINGS': 3, 'SALIDA': 3, 'WOODBRIDGE': 3, 'O FALLON': 3, 'NORMAN': 3, 'MORAGA': 3, 'LAKEVILLE': 3, 'BARRINGTON': 3, 'MORGANTOWN': 3, 'WEST JORDAN': 3, 'CAPE CORAL': 3, 'WILLIAMSVILLE': 3, 'MONARCH BEACH': 3, 'TOLUCA TERRACE': 3, 'KALISPELL': 3, 'MISSOULA': 3, 'METAIRIE': 3, 'PLYMOUTH MEETING': 3, 'HUTCHINSON': 3, 'SOUTH BEND': 3, 'FORT WASHINGTON': 3, 'STATEN ISLAND': 3, 'PISMO BEACH': 3, 'SANDY SPRINGS': 3, 'NORWELL': 3, 'LA CANADA FLT': 3, 'STOUGHTON': 3, 'POTOMAC': 3, 'ANGOLA': 3, 'KINGSBURG': 3, 'BRAWLEY': 3, 'HAZELWOOD': 3, 'GLENWOOD': 3, 'LIVINGSTON': 3, 'CELEBRATION': 3, 'OAK BROOK': 3, 'ORANGEVALE': 3, 'MANASSAS': 3, 'PACIFICA': 3, 'FREEPORT': 3, 'DANBURY': 3, 'PARAMUS': 3, 'ELKHART': 3, 'WILLIAMSTOWN': 3, 'EAU CLAIRE': 3, 'MOUNT PROSPECT': 3, 'CORPUS CHRISTI': 3, 'ROME': 3, 'LAWRENCE': 3, 'DIAMOND SPRINGS': 3, 'WILTON': 3, 'PERRY': 3, 'DAVIE': 3, 'EAST WENATCHEE': 3, 'CAMAS': 3, 'BEVERLY': 3, 'VICTORIA': 3, 'BONSALL': 3, 'HUNT VALLEY': 3, 'MERCER ISLAND': 3, 'GILROY': 3, 'HACKENSACK': 3, 'FARMERS BRANCH': 3, 'LOMBARD': 3, 'SUNSET BEACH': 3, 'ROSEMONT': 3, 'JAMUL': 3, 'BRANCHBURG': 3, 'SYLVAN LAKE': 3, 'FAIRLAWN': 3, 'NORTH SIOUX CITY': 3, 'WEST FARGO': 3, 'CALABASAS HILLS': 3, 'NEVADA CITY': 3, 'PEACHTREE CORNERS': 3, 'SHERMAN VILLAGE': 3, 'LYNDHURST': 3, 'DES PLAINES': 3, 'ENFIELD': 3, 'WORCESTER': 3, 'ANDOVER': 3, 'BOULDER CITY': 3, 'LOS ANGLES': 3, 'SHAFTER': 3, 'SEABROOK': 3, 'SHAKOPEE': 3, 'ELMIRA': 3, 'PROVIDENCE': 3, 'PULLMAN': 3, 'BOHEMIA': 3, 'FORT LEE': 3, 'ARCATA': 3, 'RAPID CITY': 3, 'BOLINGBROOK': 3, 'STATELINE': 3, 'LATHROP': 3, 'GRAPEVINE': 3, 'MEDFORD': 3, 'BOTHELL': 3, 'HARRISBURG': 3, 'BERKELEY LAKE': 3, 'PONTIAC': 3, 'WINSTON SALEM': 3, 'ELLICOTT CITY': 3, 'MAYFIELD HEIGHTS': 3, 'MIDDLETON': 3, 'LITTLE FALLS': 3, 'WOODSTOCK': 3, 'OCEANO': 3, 'SNOHOMISH': 3, 'RIO RANCHO': 3, 'SAN BRUNO': 3, 'WEST BLOOMFIELD': 3, 'MECHANICSBURG': 3, 'GREEN BAY': 3, 'TOPEKA': 3, 'SADDLE BROOK': 3, 'PAWTUCKET': 3, 'LEBANON': 2, 'TEMPLETON': 2, 'ST LOUIS PARK': 2, 'PLEASANT VIEW': 2, 'SAN BERNADINO': 2, 'PARKVILLE': 2, 'BELLE CHASSE': 2, 'HILO': 2, 'MANHATTAN BCH': 2, 'SLIDELL': 2, 'CAMINO': 2, 'YUBA CITY': 2, 'BELOIT': 2, 'VALLEY SPRINGS': 2, 'SAGINAW': 2, 'DULLES': 2, 'HEBER CITY': 2, 'TOMBALL': 2, 'NORTH READING': 2, 'SUNRISE': 2, 'ROGERS': 2, 'SHARONVILLE': 2, 'CORTLANDT MANOR': 2, 'RIVERDALE': 2, 'SPRINGVILLE': 2, 'LEAWOOD': 2, 'WEST HEMPSTEAD': 2, 'NORTHBOROUGH': 2, 'HATTIESBURG': 2, 'MORRIS': 2, 'ROSEWOOD': 2, 'OWINGS MILLS': 2, 'PARADISE VALLEY': 2, 'YOUNGSTOWN': 2, 'HAINESPORT': 2, 'LEES SUMMIT': 2, 'COCKEYSVILLE': 2, 'ELIZABETH LAKE': 2, 'COOPERSBURG': 2, 'BRADENTON': 2, 'ACCORD': 2, 'SOUTHBURY': 2, 'TYSONS CORNER': 2, 'NILES': 2, 'WILSONVILLE': 2, 'FOXBORO': 2, 'MOUNT VERNON': 2, 'PINEVILLE': 2, 'AMSTERDAM': 2, 'SOUTH EASTON': 2, 'AMERICAN CANYON': 2, 'ZEPHYR COVE': 2, 'WAUNAKEE': 2, 'PORT LUDLOW': 2, 'LOVES PARK': 2, 'YOUNGSVILLE': 2, 'JOHNSTON': 2, 'ORCUTT': 2, 'TRABUCO CYN': 2, 'WEST CALDWELL': 2, 'STURTEVANT': 2, 'HENDERSONVILLE': 2, 'YARMOUTH': 2, 'BRYAN': 2, 'ALLENDALE': 2, 'BELLA VISTA': 2, 'LINDEN': 2, 'KETTLEMAN CITY': 2, 'MONEE': 2, 'LINTHICUM HEIGHTS': 2, 'MCALLEN': 2, 'MARICOPA': 2, 'NESCONSET': 2, 'OVIEDO': 2, 'HERCULES': 2, 'LOS  ANGELES': 2, 'HENRICO': 2, 'OPELIKA': 2, 'COVENTRY TOWNSHIP': 2, 'LONDONDERRY': 2, 'QUEEN CREEK': 2, 'MOUNT JULIET': 2, 'ORANGE COVE': 2, 'SCOTTS VALLEY': 2, 'GONZALES': 2, 'HUDSON': 2, 'MANLIUS': 2, 'JEFFERSON CITY': 2, 'PALM HARBOR': 2, 'SEATAC': 2, 'VENICE BEACH': 2, 'WESTBOROUGH': 2, 'YELLOW SPRINGS': 2, 'AKRON': 2, 'EL RENO': 2, 'GOODLETTSVILLE': 2, 'PLAINFIELD': 2, 'WAUWATOSA': 2, 'LAKEVIEW': 2, 'WEST HARTFORD': 2, 'FAIRHAVEN': 2, 'RED WING': 2, 'NEW PROVIDENCE': 2, 'CORRALES': 2, 'NORRISTOWN': 2, 'HIAWATHA': 2, 'HARRISON': 2, 'BEDMINSTER': 2, 'TOPSFIELD': 2, 'SAINT GEORGE': 2, 'SURPRISE': 2, 'SAGAPONACK': 2, 'BURR RIDGE': 2, 'VANCOUVER, BC': 2, 'SONORA': 2, 'BLOOMFIELD HILLS': 2, 'ELIZABETH': 2, 'NORTH HIGHLANDS': 2, 'SUN VILLAGE': 2, 'JOHNSTOWN': 2, 'LITTLE ELM': 2, 'EAST HAMPTON': 2, 'MCMINNVILLE': 2, 'BECKLEY': 2, 'GALT': 2, 'LEAVENWORTH': 2, 'NEWTOWN': 2, 'FORT MILL': 2, 'LAKEWAY': 2, 'YREKA': 2, 'CHESTER': 2, 'CRESTON': 2, 'NATICK': 2, 'TWINSBURG': 2, 'FOREST LAKE': 2, 'MAUMEE': 2, 'SIOUX CITY': 2, 'CHATHAM': 2, 'NEW HOPE': 2, 'HEBER': 2, 'DAVENPORT': 2, 'RIVERVIEW': 2, 'KINGWOOD': 2, 'MADEIRA BEACH': 2, 'BERWYN': 2, 'CEDAR GROVE': 2, 'DALTON': 2, 'HUNTINGTON': 2, 'WEST ALLIS': 2, 'SANTA SUSANA': 2, 'NAMPA': 2, 'JACKSONVILLE BEACH': 2, 'OLANCHA': 2, 'W TOLUCA LAKE': 2, 'LAKE FOREST PARK': 2, 'BROCKTON': 2, 'HILLIARD': 2, 'WACO': 2, 'BETHLEHEM': 2, 'GRAND JUNCTION': 2, 'ANNISTON': 2, 'MANKATO': 2, 'AUGUSTA': 2, 'WATERLOO': 2, 'ATHOL': 2, 'NEW BERLIN': 2, 'COLD SPRING': 2, 'COOKEVILLE': 2, 'LEANDER': 2, 'MENTOR': 2, 'CEDAR GLEN': 2, 'WAILUKU': 2, 'KING CITY': 2, 'ODESSA': 2, 'KLAMATH FALLS': 2, 'NORTH ANDOVER': 2, 'BELLEVILLE': 2, 'LANSDALE': 2, 'HAYDEN': 2, 'STRONGSVILLE': 2, 'STERLING HEIGHTS': 2, 'EAST GRANBY': 2, 'WEBSTER': 2, 'MUSCATINE': 2, 'MARSHALL': 2, 'WHITE BEAR LAKE': 2, 'TERRELL': 2, 'BALLSTON LAKE': 2, 'PEWAUKEE': 2, 'CHANHASSEN': 2, 'MESQUITE': 2, 'TAUNTON': 2, 'MELROSE PARK': 2, 'MILLBROOK': 2, 'ARMONK': 2, 'MISSION': 2, 'WOOD DALE': 2, 'NEW BRUNSWICK': 2, 'HINSDALE': 2, 'YACOLT': 2, 'POTTSTOWN': 2, 'MONTGOMERYVILLE': 2, 'WOFFORD HEIGHTS': 2, 'HALLANDALE BEACH': 2, 'SALISBURY': 2, 'BELMONT': 2, 'WICHITA FALLS': 2, 'CRANBURY': 2, 'REDWOOD VALLEY': 2, 'JUNO BEACH': 2, 'LAKE ELMO': 2, 'UNIVERSITY PARK': 2, 'CONYERS': 2, 'GALVESTON': 2, 'PORTOLA VALLEY': 2, 'APOPKA': 2, 'LEMOORE': 2, 'PORT ORANGE': 2, 'BUTLER': 2, 'NEWINGTON': 2, 'SHOREVIEW': 2, 'BOWIE': 2, 'ZEBULON': 2, 'SCHENECTADY': 2, 'NORTH RICHLAND HILLS': 2, 'CABAZON': 2, 'SWEDESBORO': 2, 'AVON': 2, 'WATERBURY': 2, 'OKEMOS': 2, 'PENSACOLA': 2, 'CARLISLE': 2, 'KERMAN': 2, 'LYNCHBURG': 2, 'STAFFORD': 2, 'DESCANSO': 2, 'BLUE LAKE': 2, 'CATHEDRAL CTY': 2, 'BRIDGEPORT': 2, 'ROSLYN HEIGHTS': 2, 'PIKESVILLE': 2, 'OCONOMOWOC': 2, 'STREAMWOOD': 2, 'HUMBLE': 2, 'DOYLESTOWN': 2, 'NEWNAN': 2, 'MAPLE GROVE': 2, 'BROOKLYN PARK': 2, 'PORT CHESTER': 2, 'EXCELSIOR': 2, 'SCARSDALE': 2, 'ELMWOOD PARK': 2, 'BELTSVILLE': 2, 'BONITA SPRINGS': 2, 'TURTLE CREEK': 2, 'CAPITOLA': 2, 'MURFREESBORO': 2, 'PLEASANT PRAIRIE': 2, 'PLAINVIEW': 2, 'MUNCIE': 2, 'FOREST PARK': 2, 'MT BALDY': 2, 'ATWATER': 2, 'HUNTERSVILLE': 2, 'MONTVALE': 2, 'CORNELL': 2, 'OLD BRIDGE': 2, 'RCH PALOS VRD': 2, 'WOOSTER': 2, 'WARRENVILLE': 2, 'ROSELLE': 2, 'WILLOUGHBY': 2, 'LARGO': 2, 'KEW GARDENS': 2, 'DEXTER': 2, 'NOBLESVILLE': 2, 'HOLLAND': 2, 'HURRICANE': 2, 'ESSEX JUNCTION': 2, 'VALLEY STREAM': 2, 'CRANFORD': 2, 'PUEBLO': 2, 'OAKTON': 2, 'GREER': 2, 'ANCHORAGE': 2, 'WOODLAND PARK': 2, 'MATHER': 2, 'FLORENCE': 2, 'KELLER': 2, 'SUMAS': 2, 'HOLMDEL': 2, 'SAINT CHARLES': 2, 'VINEYARD': 2, 'CHADDS FORD': 2, 'MAHOPAC': 2, 'BERWICK': 2, 'FOWLER': 2, 'CHESHIRE': 2, 'PRIOR LAKE': 2, 'ERIE': 2, 'TARRYTOWN': 2, 'MEDIA': 2, 'BLAINE': 2, 'WOODS CROSS': 2, 'TIGARD': 2, 'CROWLEY': 2, 'BAINBRIDGE ISLAND': 2, 'RODEO': 2, 'LYNN': 2, 'DRESHER': 2, 'PCFIC PALSADS': 2, 'GREENFIELD': 2, 'FORT BRAGG': 2, 'SYOSSET': 2, 'SUMNER': 2, 'ABERNATHY': 2, 'APACHE JUNCTION': 2, 'EAST PALO ALTO': 2, 'NORTH KANSAS CITY': 2, 'HUNTINGTON STATION': 2, 'DELRAY BEACH': 2, 'LAKELAND': 2, 'FRIENDSWOOD': 2, 'MONUMENT': 2, 'SYMAR': 2, 'NORTH CHARLESTON': 2, 'PARIS': 2, 'BOW': 2, 'WIXOM': 2, 'WEST ROXBURY': 2, 'SMITHVILLE': 2, 'WASCO': 2, 'SAN JUAN BAUTISTA': 2, 'ARVIN': 2, 'ANACORTES': 2, 'TRONA': 2, 'BLUE ASH': 2, 'CRAWFORD': 2, 'LEAGUE CITY': 2, 'EDEN': 2, 'RICHFIELD': 2, 'QUINCY': 2, 'BALA CYNWYD': 2, 'SINGAPORE 038988': 2, 'HARTSDALE': 2, 'NEWBERRY SPRINGS': 2, 'GROVE CITY': 2, 'OXFORD': 2, 'NEW CASTLE': 2, 'CLEARWATER BEACH': 2, 'MCKINNEY': 2, 'ISELIN': 2, 'OWATONNA': 2, 'ATHERTON': 2, 'LAKE STEVENS': 2, 'COLLEYVILLE': 2, 'HOLTVILLE': 2, 'COLLEGEVILLE': 2, 'OZARK': 2, 'WHEELING': 2, 'MIDLOTHIAN': 2, 'OAKHURST': 2, 'EAST SAINT LOUIS': 2, 'CANBY': 2, 'DINUBA': 2, 'CORTE MADERA': 2, 'KATONAH': 2, 'MAPLEWOOD': 2, 'HICKSVILLE': 2, 'BILLERICA': 2, 'TERRE HAUTE': 2, 'SOUTH PORTLAND': 2, 'KIFISSIA': 2, 'EAST MEADOW': 2, 'STILLWATER': 2, 'WYOMING': 2, 'BRIGHTON': 2, 'FAIRBORN': 2, 'PARADISE': 2, 'HOLBROOK': 2, 'COLFAX': 2, 'N LAS VEGAS': 2, 'NORTH BRUNSWICK': 2, 'GLEN ELLYN': 2, 'MONTPELIER': 2, 'GRETNA': 2, 'PEAPACK': 2, 'AIRMONT': 2, 'DIXON': 2, 'DENTON': 2, 'ROSHARON': 2, 'CORAOPOLIS': 2, 'EASTON': 2, 'ROCKLEIGH': 2, 'ORLAND': 2, 'BLUFFTON': 2, 'CASTLE ROCK': 2, 'TUSCALOOSA': 2, 'FORNEY': 2, 'MEQUON': 2, 'MIAMI LAKES': 2, 'MORRIS PLAINS': 2, 'PALO CEDRO': 2, 'KENNETT SQUARE': 2, 'VALPARAISO': 2, 'CASA GRANDE': 2, 'WAKEFIELD': 2, 'SANTA MARGARITA': 2, 'SAINT PETERS': 2, 'JEFFERSONVILLE': 2, 'BRADFORD': 2, 'IVINS': 2, 'BRIDGETON': 2, 'ENGLEWOOD CLIFFS': 2, 'VALHALLA': 2, 'MARCH AIR RESERVE BASE': 2, 'BENSON': 2, 'RANDOLPH': 2, 'SOUTHBOROUGH': 2, 'KINGSPORT': 2, 'HORSESHOE BEND': 2, 'BAYSIDE': 2, 'FOUNTAIN VLY': 2, 'MOORESVILLE': 2, 'WILMETTE': 2, 'SUMMIT': 2, 'NORTH HAVEN': 2, 'WALKER': 2, 'EDINBURGH': 2, 'MOON TOWNSHIP': 2, 'STATE COLLEGE': 2, 'SAINT-LAURENT': 2, 'FLOWER MOUND': 2, 'BURNABY BC V5C4E2': 1, 'DELPHOS': 1, 'PIEDMONT': 1, 'WYOMISSING': 1, 'ORRVILLE': 1, 'TUPELO': 1, 'WARRINGTON': 1, 'HASTINGS ON HUDSON': 1, 'ESSEX UK': 1, 'SN BERNRDNO': 1, 'BRESSIEUX': 1, 'HERNDERSON': 1, 'ROSLYN': 1, 'YORKTOWN HEIGHTS': 1, 'SUGARLOAF': 1, 'TORONTO ONTARIO M5J 1R7': 1, 'HAMPTON': 1, 'GENEVA': 1, 'KITCHENER, ONTARIO N2G 4X8': 1, 'LOS ANELES': 1, 'DOVER PLAINS': 1, 'RANCHITA': 1, 'EDINBURGH EH1 3AN': 1, 'JUNE LAKE': 1, 'COWES, ISLE OF WIGHT, PO31 8PB': 1, 'NARRAGANSETT': 1, 'LEICESTER': 1, 'RICHMOND, BC': 1, 'WEST ORANGE': 1, 'PIERRE': 1, 'GREENBELT': 1, 'ROCK SPRINGS': 1, 'CAMBRIDGE ON N1R 6R8': 1, 'EAST HANOVER': 1, 'QUALICUM BEACH  V9K 2G4': 1, 'BRICK': 1, 'UNION HALL': 1, 'MORRISONVILLE': 1, 'CHESTNUT RIDGE': 1, 'WALLED LAKE': 1, 'OLIVEHURST': 1, 'GARWOOD': 1, 'SKOKIE': 1, 'SOQUEL': 1, 'LOS ANGELES, CA': 1, 'HOWELL': 1, 'SALISBURY.': 1, 'BACLIFF': 1, 'ROMA SUR, MEXICO CITY': 1, 'SPRING HILL': 1, 'ABITA SPRINGS': 1, 'TROTWOOD': 1, 'ROMEOVILLE': 1, 'CHARTSWORTH': 1, 'JEDDAH': 1, 'COSHOCTON': 1, 'HUDSONVILLE': 1, 'MILLER PLACE': 1, 'CHICOPEE': 1, 'KOBENHAVN': 1, 'FRANKLIN LAKES': 1, 'CHESTERBROOK': 1, 'PFLUGERVILLE': 1, 'WAUSAU': 1, 'BANGOR': 1, 'BARTLESVILLE': 1, 'GIBSONIA': 1, 'MOUNTVILLE': 1, 'TREMONTON': 1, 'EAST STROUDSBURG': 1, 'COPPEROPOLIS': 1, 'DANIA': 1, 'GRANBAY': 1, 'SIKESTON': 1, 'MYERSVILLE': 1, 'YELM': 1, 'ELMHURST': 1, 'HARLOWTON': 1, 'SEDRO WOOLLEY': 1, 'TAYLORS': 1, 'MAMARONECK': 1, 'BUCKEYE': 1, 'HARDY': 1, 'HOLLADAY': 1, 'WALNUT GROVE': 1, 'WEST SPRINGFIELD': 1, 'SWANTON': 1, 'WALPOLE': 1, 'BLAUVELT': 1, 'LINDENWOLD': 1, 'RESEARCH TRIANGLE PARK': 1, 'GRANVILLE': 1, 'BAY HARBOR ISLANDS': 1, 'SAPULPA': 1, 'LAGRANGE': 1, 'SANTA ROSA VA': 1, 'OPA LOCKA': 1, 'MINERVA': 1, 'JEANERETTE': 1, 'HARBOR PLACE': 1, 'LITITZ': 1, 'STEVINSON': 1, 'PLATTE CITY': 1, 'BURLESON': 1, 'POTTER VALLEY': 1, 'CHULUOTA': 1, 'LAVEEN': 1, 'ENTERPRISE': 1, 'NORTH VANCOUVER,  B.C.': 1, 'MANTEO': 1, 'VANCOUVER, BC V6G1A5': 1, 'SOUTH LYON': 1, 'CHIPPEWA FALLS': 1, 'CADILLAC': 1, 'NORTH KINGSTOWN': 1, 'SUITLAND': 1, 'WARMINSTER': 1, 'TULALIP': 1, 'GREENPORT': 1, 'BRATTLEBORO': 1, 'DETROIT LAKES': 1, 'WATTS': 1, 'SAUGERTIES': 1, 'VICTOR': 1, 'INVER GROVE HEIGHTS': 1, 'MI': 1, 'CAPRISTRANO BEACH': 1, 'WHEATON': 1, 'CEDAR LAKE': 1, 'SUISUN CITY': 1, 'MATTHEWS': 1, 'HANOVER TOWNSHIP': 1, 'SUPERIOR': 1, 'SEVEN POINTS': 1, 'WETHERSFIELD': 1, 'STAR': 1, 'PELHAM': 1, 'GARNER': 1, 'NIANTIC': 1, 'DURANT': 1, 'GROTON': 1, 'MOUNTAIN CENTER': 1, 'ZELIENOPLE': 1, 'GIG HARBOR': 1, 'SAN ANSELMO': 1, 'BLOOMINGBURG': 1, 'GARY': 1, 'BUHLER': 1, 'CHALK RIVER': 1, 'AVONDALE': 1, 'LEMONT': 1, 'GLENCOE': 1, 'WEATOGUE': 1, 'OGDENSBURG': 1, 'MENDOTA HEIGHTS': 1, 'MINATO-KU, TOKYO, JAPAN': 1, 'TEWKSBURY': 1, 'CEDAR PARK': 1, 'ALTOONA': 1, 'NORTHLAKE': 1, 'OSTERVILLE': 1, 'CREAM RIDGE': 1, 'VICTORIA BC V8W 1T7': 1, 'WENATCHEE': 1, 'CALGARY, AB T2P 2Y5': 1, 'TALLASSEE': 1, 'HOLLISTON': 1, 'MECCA': 1, 'DARLINGTON': 1, 'COTATI': 1, 'POLLOCK PINES': 1, 'HYANNIS': 1, 'BERLIN': 1, 'NORTH BELLMORE': 1, 'DICKSON': 1, 'WEST VALLEY': 1, 'WELLSVILLE': 1, 'CALVERTON': 1, 'JESSUP': 1, 'TORONTO, ON  M5V 1K4 CANADA': 1, 'ANGLETON': 1, 'WEEKI WACHEE': 1, 'RIESEL': 1, 'NOBLE': 1, 'DORCHESTER': 1, 'HARLINGEN': 1, 'PEARL': 1, '1119RA, SCHIPHOL RIJK,': 1, 'PRICE': 1, 'MONETA': 1, 'KENNERDELL': 1, 'LAWRENCE TOWNSHIP': 1, 'OCEAN': 1, 'FALLON': 1, 'SOUTH BARRINGTON': 1, 'NORTHGLENN': 1, 'CAMDEN LONDON WC1A 1JJ': 1, 'IONE': 1, 'ROXBURY CROSSING': 1, 'MANHASSET': 1, 'KOBE HYOGO-KEN': 1, 'LAMIRADA': 1, 'SOUTHERN PINES': 1, 'UPPER DARBY': 1, 'IRONDALE': 1, 'HANOVER PARK': 1, 'ROSEBURG': 1, 'FRONT ROYAL': 1, 'DOCKLANDS VIC 3008': 1, 'ELKO': 1, 'CULPEPER': 1, 'BLUEFIELD': 1, 'NORTH HOLLWOOD': 1, 'ARCADE': 1, 'HALF MOON BAY': 1, 'UNION GROVE': 1, 'VICTORIA, BC': 1, 'EDMONTON': 1, 'CUMBERLAND': 1, 'ELK GROVE VLG': 1, 'ROOSEVELT': 1, 'VILLA RICA': 1, 'FINKSBURG': 1, 'HARAHAN': 1, 'ST GEORGE': 1, 'GREAT BEND': 1, 'ROBINSON': 1, 'OWOSSO': 1, 'LA CROSSE': 1, 'COCOA': 1, 'LITTLESTOWN': 1, '07745 JENA': 1, 'PENNGROVE': 1, 'REYNOLDSVILLE': 1, 'ANKENY': 1, 'WINDER': 1, 'ORTING': 1, 'CORDOVA': 1, 'SALINA': 1, 'HUFFMAN': 1, 'ROMFORD, ESSEX RM1 4LH': 1, 'OAKLAND GARDENS': 1, 'QUEENS CREEK': 1, 'HAILEY': 1, 'GRESHAM': 1, 'LEHIGH ACRES': 1, 'NEW CARLISLE': 1, 'FUQUAY VARINA': 1, 'SEALY': 1, 'WEST': 1, 'BROADVIEW': 1, 'HACKETTSTOWN': 1, 'STREATOR': 1, 'NORTHPORT': 1, 'RAYNHAM': 1, 'GUASTI': 1, 'HATHAWAY PINES': 1, 'WEST DES MOINES': 1, 'HATBORO': 1, 'LITHONIA': 1, 'HAVILAH': 1, 'MATTOON': 1, 'RED HOOK': 1, 'WANTAGH': 1, 'PEARLAND': 1, 'YARDLEY': 1, 'ALKMAAR': 1, 'CHARLTON': 1, 'NOLENSVILLE': 1, 'RIVERBANK': 1, 'CARNEGIE': 1, 'MOUNT SHASTA': 1, 'GALLOWAY': 1, 'WEST VANCOUVER': 1, 'ACWORTH': 1, 'CENTER VALLEY': 1, 'SOUTH WEBER': 1, 'AMESBURY': 1, 'PLANTATION': 1, 'MONTRÉAL, QC H4Z 1G8, CANADA': 1, 'CHAMBLEE': 1, 'SELMA': 1, 'LIGHTHOUSE POINT': 1, 'AJELTAKE ISLAND, MAJURO': 1, 'MILLINGTON': 1, 'LEWIS CENTER': 1, 'ABINGDON': 1, 'ZIONSVILLE': 1, 'WEST SENECA': 1, 'NICHOLASVILLE': 1, 'MILSONS POINT NEW SOUTH WALES': 1, 'EXPORT': 1, 'FELIXSTOWE, SUFFOLK': 1, 'NEW CITY': 1, 'NORTH LAWRENCE': 1, 'HORSEHEADS': 1, 'TOKYO': 1, 'GRAWN': 1, 'COMMERCE TOWNSHIP': 1, 'MONTEAGLE': 1, 'INDIAN HARBOUR BEACH': 1, 'PORT CRANE': 1, 'PAONIA': 1, 'GLENOLDEN': 1, 'BLACKFOOT': 1, 'LAKE BUENA VISTA': 1, 'RYE': 1, 'GRANTS PASS': 1, 'MCHENRY': 1, 'CATONSVILLE': 1, 'SUN LAND': 1, 'STEVENS POINT': 1, 'AVERY ISLAND': 1, 'DOWNINGTOWN': 1, 'KAMUELA': 1, 'BIGFORK': 1, 'TORONTO ONTARIO M4C3P5': 1, 'CASTLE PINES': 1, 'COOLIDGE': 1, 'LOGANVILLE': 1, 'GILA BEND': 1, 'FARNBOROUGH GU14 7PW': 1, 'WILKINSBURG': 1, 'WEST WAREHAM': 1, 'STEPHENS CITY': 1, 'ARDEN': 1, 'TSING YI, N.T.  HONGKONG': 1, 'EAST WINDSOR': 1, 'EDGARTOWN': 1, 'NORTH BILLERICA': 1, 'GALIANO ISLAND, BC V0N1P0': 1, 'WHITEFISH': 1, 'ETIWANDA': 1, 'NORTH SYRACUSE': 1, 'ORANGE CITY': 1, 'HUGHESVILLE': 1, 'VANCOUVER BC  V6E  4A2': 1, 'BREMERTON': 1, 'FARIBAULT': 1, 'LORTON': 1, 'COLLIERVILLE': 1, 'BOUNTIFUL': 1, 'ST BRUNO QUEBEC J3V 3P8': 1, 'EDWARDS AFB': 1, 'MEDINA': 1, 'LAKE BLUFF': 1, 'COWES': 1, 'MT PLEASANT': 1, '00148 ROME ITALY': 1, 'DRIPPING SPRINGS': 1, 'WAPAKONETA': 1, 'PARMA': 1, 'KEARNY': 1, 'MITCHELL': 1, 'KANGNAMKU SEOUL': 1, 'RICE LAKE': 1, 'GRIMES': 1, 'BEECHER': 1, 'VAN BUREN': 1, 'WOLFEBORO': 1, 'WHITE CITY': 1, 'BELL FLOWER': 1, 'WAITSFIELD': 1, 'SAINT HELENA': 1, 'NANUET': 1, 'LITCHFIELD PARK': 1, 'DERRY': 1, 'SPRING GROVE': 1, 'STATESBORO': 1, 'HELENA': 1, 'GIBSONTON': 1, 'E PALMDALE': 1, 'WINTERSET': 1, 'CUMMING': 1, 'RANCHO STA MARG': 1, 'WADDELL': 1, 'SPRINGBORO': 1, 'OAKBROOK TERRACE': 1, 'RADNOR': 1, 'ALVISO': 1, 'PLAIN CITY': 1, 'BERKELEY HEIGHTS': 1, 'WALDRON': 1, 'TYLERTOWN': 1, 'EDINA': 1, 'DOUGLASVILLE': 1, 'MONTGOMERY VILLAGE': 1, 'FOUNTAIN HILLS': 1, 'PERTH AMBOY': 1, 'WELDON SPRING': 1, 'SYCAMORE': 1, 'GREENE': 1, 'MONT-ROYAL QUEBEC H3P 3C8': 1, 'ALBERS': 1, 'MARINA DEL RAY': 1, 'VANDALIA': 1, 'HILLSIDE': 1, 'NINE MILE FALLS': 1, 'SOUTH JACKSONVILLE': 1, 'PRAIRIE VILLAGE': 1, 'THEODORE': 1, 'LOS BANOS': 1, 'GWANGJIN-RO, SEOUL': 1, 'OREGON CITY': 1, 'LORAIN': 1, 'PACOIMA, CA': 1, 'DUXBURY': 1, 'SOUTH BURLINGTON': 1, 'MIDDLEBURG': 1, 'GRAND ISLAND': 1, 'CAPE VINCENT': 1, 'KEYPORT': 1, 'WAUKEGAN': 1, 'MOOSIC': 1, 'ORANGEBURG': 1, 'WEST CHICAGO': 1, 'ALSIP': 1, 'LANOKA HARBOR': 1, 'COQUITLAM, BC V3C 3T5': 1, 'NEW WINDSOR': 1, 'LIHUE': 1, 'SMYMA': 1, 'LAKEWOOD RANCH': 1, 'CHASKA': 1, 'BROUSSARD': 1, 'NORTH OLMSTED': 1, 'LAUREL': 1, 'CENTRAL POINT': 1, 'ZENDA': 1, 'CLIFTON HEIGHTS': 1, 'NOGOAKA, NIIGATA': 1, 'EAST BRUNSWICK': 1, 'LE ROY': 1, 'COALDALE, ALBERTA': 1, 'OWENS X RDS': 1, 'UNIONDALE': 1, 'PORTMOUTH': 1, 'YORKVILLE': 1, 'SAINT LOUIS PARK': 1, 'WEST LONG BRANCH': 1, 'CHAPEL HILL': 1, 'LONDON W1S 1BD': 1, 'SWANSEA': 1, 'VERDI': 1, 'LULING': 1, 'MARANA': 1, 'BARTONVILLE': 1, 'HUGO': 1, 'PEARL RIVER': 1, 'STREETSBORO': 1, 'NEWPORT NEWS': 1, 'NORTH TONAWANDA': 1, 'NEW BEDFORD': 1, 'GABBS': 1, 'LOCUST GROVE': 1, 'OLD HICKORY': 1, 'ABBOTT PARK': 1, 'LEE': 1, 'SOUTH PLAINFIELD': 1, 'VINE GROVE': 1, 'URBANA': 1, 'ARCHBOLD': 1, 'LEOLA': 1, 'DATIL': 1, 'ALVARADO': 1, 'WAYLAND': 1, 'NEW BERN': 1, 'IDABEL': 1, 'EAST HARTFORD': 1, 'ANTELOPE': 1, 'TECATE': 1, 'RED BLUFF': 1, 'HINCKLEY': 1, 'BENJAMIN': 1, 'OAKVILLE, ON L6L 0G2': 1, 'GARLAND': 1, 'KERNERSVILLE': 1, 'PARIS FRANCE DNA': 1, 'OWENSBORO': 1, 'SPRECKELS': 1, 'NORTH VANCOUVER BC V7P1R2': 1, 'N MASSAPEQUA': 1, 'PALDALE': 1, 'WACONIA': 1, 'BURNABY, BC V5G 0B8': 1, 'SCHKEUDITZ': 1, 'BUZZARDS BAY': 1, 'TENAFLY': 1, 'BAGLEY LANE': 1, 'SMITHFIELD': 1, 'HOOFDDORP': 1, 'TALLMADGE': 1, 'TUPMAN': 1, 'WILLOWS': 1, 'TORONTO ONTARIO CANADA': 1, 'BLACKSBURG': 1, 'WINONA': 1, 'BALDWIN': 1, 'DORAVILLE': 1, 'MACEDONIA': 1, 'BOWLING GREEN': 1, 'GLADEWATER': 1, 'MURRYSVILLE': 1, 'LIBERTY HILL': 1, 'LAUGHLIN': 1, 'FT LAUDERDALE': 1, 'ZANESVILLE': 1, 'KELOWNA, BC V1Y 9N7, CANADA': 1, 'HOFFMAN ESTATES': 1, 'LATROBE': 1, 'TETERBORO': 1, 'MARCELINE': 1, 'SANDSTON': 1, 'OTTAWA, ONTARIO': 1, 'ARGYLE': 1, 'HUMAROCK': 1, 'WESTHAMPTON BEACH': 1, 'BURLEY': 1, 'CLAIRTON': 1, 'YORKTOWN': 1, 'LOCUST VALLEY': 1, 'MOSINEE': 1, 'COLCHESTER': 1, 'MINATO KU, TOKYO': 1, 'AMERICUS': 1, 'IRA': 1, 'GANJINGZI DISTRICT DALIAN': 1, 'TORONTO, ON M6C 1C3': 1, 'POCATELLO': 1, 'GAFFNEY': 1, 'POMPTON PLAINS': 1, 'KIHEI': 1, 'VARNVILLE': 1, 'DE SOTO': 1, 'W LOS ANGELES': 1, 'LUCERNE VLY': 1, 'QUEBEC, MONTREAL, H4Z1M1': 1, 'HUERTH       GERMANY': 1, 'DALTON GARDENS': 1, 'MOSCOW': 1, 'CALGARY': 1, 'NORTH HOLLYWOOE': 1, 'AVENEL': 1, 'NORTH FORT MYERS': 1, 'ETNA': 1, 'WHITBY ONTARIO LIN6K9': 1, 'PORT MATILDA': 1, 'HIALEAH': 1, 'DEBARY': 1, 'MISSISSAUGA, ONTARIO': 1, 'WHITE DEER': 1, 'JAMESBURG': 1, 'MURPHYS': 1, 'PINOLE': 1, 'SOUTHINGTON': 1, 'COPAKE': 1, 'COLONIA': 1, 'ANDREWS': 1, 'DULZURA': 1, 'BARI': 1, 'BUSINESS BAY, DUBAI, UAE   PO': 1, 'CONOVER': 1, 'SURFSIDE BEACH': 1, 'HAW RIVER': 1, 'W HENRIETTA': 1, 'MONTREAL': 1, 'OAKWOOD VILLAGE': 1, 'N LITTLE ROCK': 1, 'HAWKESBURY, ONT': 1, 'LAVAL QUEBEC H7P6C5': 1, 'DFW AIRPORT': 1, 'HOLMES BEACH': 1, 'WEST NEWTON': 1, 'SILVER SPRINGS': 1, 'OLD GREENWICH': 1, 'NEW ROCHELLE': 1, 'NEW HAMPTON': 1, 'CAMP PENDLETON': 1, 'HOUMA': 1, 'BRUSSELS BELGIUM': 1, 'NO-3194 HORTEN': 1, 'HALLANDALE': 1, 'VANCOUVER, BC V7W2P2': 1, 'HAUULA': 1, 'OLIN': 1, 'SULLIVANS ISLAND': 1, 'RONKONKOMA': 1, 'BRAMPTON ONTARIO L6T 4H6': 1, 'RYE BROOK': 1, 'FAIRHOPE': 1, 'RARITAN': 1, 'HARMONY': 1, 'NEEDLES': 1, 'DELAND': 1, 'WESTMONT': 1, 'WATERLOO ON': 1, 'BARRIE ON L4N 6E5': 1, 'FOREST HILL': 1, 'EL TORO': 1, 'ALLEN': 1, 'TORONTO, ON, M5C 2V6': 1, 'ROUND TOP': 1, 'NORTH YORK': 1, 'TORONTO, ONTARIO M5J 1A1': 1, '201 KOPAVOGUR': 1, 'SACHSE': 1, 'HALTOM CITY': 1, 'WEST VALLEY CITY': 1, 'AVON PARK': 1, 'HOMESTEAD': 1, 'CHARLOTTETOWN  PE': 1, 'SUCHES': 1, 'BROKEN ARROW': 1, 'DUCOR': 1, 'LAND O LAKES': 1, 'MADRID': 1, 'SHEDD': 1, 'SAUCIER': 1, 'BENBROOK': 1, 'N. LAS VEGAS': 1, 'ROWLETT': 1, 'CAMBRIDGE ONTARIO': 1, 'WINDSOR LOCKS': 1, 'MERRITT IS': 1, 'MERIDEN': 1, 'VITACURA SANTIAGO': 1, 'WELCOME': 1, 'MONETT': 1, 'CTY OF CMMRCE': 1, 'IRVINGTON': 1, 'ELKRIDGE': 1, 'PLEASANT PR': 1, 'HAVANA': 1, 'MARSEILLE': 1, 'LAS CRUCES': 1, 'MONONGAHELA': 1, 'CHADWICK': 1, 'PORTAGE': 1, 'TAHOE CITY': 1, 'WEST CONCORD': 1, 'BARRIE ONTARIO': 1, 'WITTNEKA': 1, 'MARTIN': 1, 'OTTAWA': 1, 'MARBLEHEAD': 1, 'SURREY BC': 1, 'HAMMOND': 1, 'CHEHALIS': 1, 'MANASQUAN': 1, 'ROCKLEDGE': 1, 'CHOWCHILLA': 1, 'HIGH POINT': 1, 'WILLIAMS': 1, 'MARIA DEL REY': 1, 'DUNKIRK': 1, 'TORONTO ON M5V3G2': 1, 'CHANNELVIEW': 1, 'WHITEHOUSE STATION': 1, 'MAYVILLE': 1, 'HAZLE TOWNSHIP': 1, 'MAPLE SHADE': 1, 'CALGARY, AB T2P 4L4': 1, 'PAYSON': 1, 'CLINTON': 1, 'MOUNT MORRIS': 1, 'KYIV 02000': 1, 'KAILUA KONA': 1, 'SAG HARBOR': 1, 'TELLURIDE': 1, 'INLET BEACH': 1, 'LUTHERVILLE': 1, 'REDFORD': 1, 'CREEDMOOR': 1, 'EAST PROVIDENCE': 1, 'BONDURANT': 1, 'ST-GEORGES QUEBEC G5Y 0H1': 1, 'MISSOURI CITY': 1, 'TALLADEGA': 1, 'MAHOMET': 1, 'KITCHENER': 1, 'GLEN ALLEN': 1, 'DICKERSON': 1, 'PUYALLUP': 1, 'VERONA': 1, 'ROCKAWAY': 1, 'CLACKAMAS': 1, 'EAST NORRITON': 1, 'BORON': 1, 'DISTRICT HEIGHTS': 1, 'MILLERSVILLE': 1, 'COLORADO SPGS': 1, 'BAY POINT': 1, 'ROYSTON': 1, 'WAPPINGERS FALLS': 1, 'ZEPHYRHILLS': 1, 'RNCHO CORDOVA': 1, 'PALM SPRING': 1, 'W ENTRANCE WATERLOO ONTARIO': 1, 'VANDERGRIFT': 1, 'AURORA, ONTARIO': 1, 'SINGAPORE 068808': 1, 'SASKATOON SK S7K 4J4': 1, 'FORT MC COY': 1, 'LONDON, UNITED KINGDOM NW1 2DT': 1, 'DOMINGUEZ': 1, 'KILLEEN': 1, 'POTRERO': 1, 'MUNSTER': 1, 'FREMONT VALLEY': 1, 'MONROEVILLE': 1, 'WEST HAVEN': 1, 'MEADOW VISTA': 1, 'SOUTH PETALUMA': 1, 'CHANGZHOU JIANGSU 213003': 1, 'LEWES, EAST SUSSEX, BN86JL': 1, 'DILLSBURG': 1, 'WILLOWICK': 1, 'MINERAL WELLS': 1, 'CENTERVILLE': 1, 'DADE CITY': 1, 'DEVORE HEIGHTS': 1, 'CHASTWORTH': 1, 'LOYALTON': 1, 'BATAVIA': 1, 'BARGERSVILLE': 1, 'GUERNEVILLE': 1, 'N HILLS': 1, 'GORDONSVILLE': 1, 'PEORIA HEIGHTS': 1, 'SHENANDOAH': 1, 'CENTENNIAL TOWER': 1, 'BEIT SHEMESH': 1, 'EAST BRISBANE QLD 4169': 1, 'BROWNS VALLEY': 1, 'NOKESVILLE': 1, 'PADUCAH': 1, 'MAITLAND': 1, 'CAMPBELL HALL': 1, 'BOXBOROUGH': 1, 'ALBION': 1, 'QUAIL VALLEY': 1, 'TEQUESTA': 1, 'PLUMAS LAKE': 1, 'MORTON GROVE': 1, 'MARENGO': 1, 'MILLERSBURG': 1, 'OLD CHATHAM': 1, 'SAVOY': 1, 'ASTON': 1, 'HALFMOON': 1, 'CRESCENT CITY': 1, 'HILMAR': 1, 'HAWTORNE': 1, 'JORDAN': 1, 'PRYOR': 1, 'PORT ORCHARD': 1, 'MT CRAWFORD': 1, 'RIVERHEAD': 1, 'LAMONT': 1, 'FORT PAYNE': 1, 'EDMONTON, ALBERTA T5J3S4': 1, 'ESOPUS': 1, 'TORONTO  ONTARIO    M5V3J6': 1, 'CALIPATRIA': 1, 'BLOOMINGDALE': 1, 'BELLWOOD': 1, 'TAIPEI, TAIWAN': 1, 'VANCOUVER, BC V5T 1R6': 1, 'PICKERING, ONTARIO, L1W3V3': 1, 'VANCOUVER, BC V6B': 1, 'ST LAURENT H4S 1J2': 1, 'DANVERS': 1, 'BOURBONNAIS': 1, 'COALVILLE': 1, 'HURST': 1, 'CUYAMA': 1, 'FLEETWOOD': 1, 'CARMI': 1, 'PAPILLION': 1, 'UPPER SANDUSKY': 1, 'EVERGREEN': 1, 'TENVIKVEIEN': 1, 'PITTSFORD': 1, 'WINTER GARDEN': 1, 'BATTLE CREEK': 1, 'FLINT': 1, 'SUNLAND PARK': 1, 'MINNEOLA': 1, 'LIBERTY LAKE': 1, 'DELAVAN': 1, 'BELLEVILLE ONTARIO K8N OA3': 1, 'SALTON CITY': 1, 'NEW ALBANY': 1, 'ELLSWORTH': 1, 'CORBETT': 1, 'CAMERON': 1, 'LANDOVER': 1, 'UTOPIA': 1, 'JUNCTION CITY': 1, 'SPRINGDALE': 1, 'WINDSOR BERKSHIRE': 1, 'NEW CANAAN': 1, 'BETTENDORF': 1, 'GUELPH ONTARIO': 1, 'MECHANICSVILLE': 1, 'PALM BEACH GARDENS': 1, 'MILWAUKIE': 1, 'KERSEY': 1, 'CANTIL': 1, 'RANCHO PARK': 1, 'PERRYSBURG': 1, 'SHOREWOOD': 1, 'LUDLOW': 1, 'RUTHERFORD': 1, 'LONDON SW/W OBD': 1, 'TELFORD': 1, 'MARINA DEL RY': 1, 'BELLS': 1, 'LANDERS': 1, 'W SACRAMENTO': 1, 'PINE PLAINS': 1, 'HAINES CITY': 1, 'FREELAND': 1, 'WESTLAKE': 1, 'SURREY, BC V3W 2X8': 1, 'AVE MARIA': 1, 'WASHOE VALLEY': 1, 'LONDON, ENGLAND NW6 2HE': 1, 'SAN PEDROA': 1, 'GLEN CARBON': 1, 'BONNEY LAKE': 1, 'BROOKHAVEN': 1, 'MCKEESPORT': 1, 'CALABASA': 1, 'CRESTWOOD': 1, 'LYNDEN': 1, 'NEW HOLLAND': 1, 'CROSS ROADS': 1, 'MONTREAL QUEBEC H4E 1AZ': 1, 'MASHPEE': 1, 'HENEFER': 1, 'WILLOUGHBY HILLS': 1, 'TUAS LOT, 639107': 1, 'SHOKAN': 1, 'SOUTHGATE': 1, 'HAZLETON': 1, 'FAWNSKIN': 1, 'SAVAGE': 1, 'HICKORY': 1, 'SHIRLEY': 1, 'CATAWBA': 1, 'SHAWNEE MISSION': 1, 'EWING': 1, 'SHEBOYGAN FLS': 1, 'VENETIA': 1, 'PAHOA': 1, 'CLARKSTON': 1, 'STANFIELD': 1, 'FLAGSTAFF': 1, '1911 FREDERIKSBERG, COPENHAGEN': 1, 'CALHOUN': 1, 'LAKE PLACID': 1, 'TORONTO, ONTARIO': 1, 'WYNNEWOOD': 1, 'UPPER SADDLE RIVER': 1, 'DELAWARE': 1, 'SMARTSVILLE': 1, 'THOMASVILLE': 1, 'LITTLE COMPTON': 1, 'EUREKA': 1, 'JENSEN BEACH': 1, 'DUNEDIN': 1, 'MOUNT SINAI': 1, 'GLENDALE HEIGHTS': 1, 'FIFE': 1, 'PIPERTON': 1, 'ARAPAHOE': 1, 'LOS ANGELS': 1, 'MANTON': 1, 'COLUMBIA FALLS': 1, 'NORTH YORK, ON M2J4V6': 1, 'CORNING': 1, 'EAST AURORA': 1, 'WILKES BARRE': 1, 'DUBUQUE': 1, 'SAN MIGUEL': 1, 'SOUTH HOLLAND': 1, 'VANCOUVER, BC, V6B4N6': 1, 'BETHANY BEACH': 1, 'LEIMERT PARK': 1, 'BLACKWOOD': 1, 'YOUNTVILLE': 1, 'MIDDLEBORO': 1, 'HYATTSVILLE': 1, 'CINNAMINSON': 1, 'SAND COULEE': 1, 'CARPENTERSVILLE': 1, 'LONDON E1W3HA ENGLAND': 1, 'LIVERPOOL': 1, 'BOSQUE FARMS': 1, 'EAST DUNDEE': 1, 'ANDES': 1, 'LAKE ISABELLA': 1, 'PEYTON': 1, 'DECORAH': 1, 'NEEDHAM HEIGHTS': 1, 'MACON': 1, 'HAZLET': 1, 'ZELIENDOPLE': 1, 'SWIFTWATER': 1, 'GRAIN VALLEY': 1, 'MILLSBORO': 1, 'LAKE WALES': 1, 'ISSAQUAH': 1, 'BERTHOUD': 1, 'WORTHINGTON': 1, 'PALM CITY': 1, 'GRATZ': 1, 'WHITSETT': 1, 'ELYRIA': 1, 'HIXSON': 1, 'CERRILLOS': 1, 'AUDUBON': 1, 'LONDON W4 2PD': 1, 'SEARCY': 1, 'BAY MINETTE': 1, 'TREVOSE': 1, 'ROCKLAND': 1, 'WEST LAKE VILLAGE': 1, 'MONCLAIR': 1, 'MARQUETTE': 1, 'WESTBURY': 1, 'MTL QCHIA 3 N 6': 1, 'NIWOT': 1, 'OSHKOSH': 1, 'GARNET VALLEY': 1, 'WATERVLIET': 1, 'S BURLINGTON': 1, 'GAUTIER': 1, 'JOHNSBURG': 1, 'KIRKWOOD': 1, 'SYLVANIA': 1, 'LAKE VILLA': 1, 'IRMO': 1, 'TOHAJIILEE': 1, 'NORTHAMPTON': 1, 'DENISON': 1, 'PLAINVILLE': 1, 'EASTSOUND': 1, 'UNIVERSITY CITY': 1, 'N TONAWANDA': 1, 'BELLEFONTAINE': 1, 'SIDNEY': 1, 'RIDLEY PARK': 1, 'FOWLERVILLE': 1, 'NEVADA': 1, 'QUANTICO': 1, 'SHIPPENSBURG': 1, 'LONG BRANCH': 1, 'ESPARTO': 1, 'YONGIN-SI, GYEONGGI=-DO': 1, 'LA PORTE': 1, 'ALTON': 1, 'NEWMARKET, ON L3Y7B5': 1, 'ESSEX': 1, 'CAIHUYING FENGTAI DISTRICT BEI': 1, 'CHESTERLAND': 1, 'ROANOKE': 1, 'SHALLOTTE': 1, 'N CHELMSFORD': 1, 'NORTH RIDGE': 1, 'EAST WEYMOUTH': 1, 'PENROSE': 1, 'EL MIRAGE': 1, 'TERMINAL ISLAND': 1, 'DARIEN': 1, 'ANTHONY': 1, 'RED HILL': 1, 'ETOBICOKE, ON M8Z': 1, 'MAYFIELD': 1, 'LETHBRIDGE AB': 1, 'CAPE CANAVERAL': 1, 'LARCHMONT': 1, 'TRINIDAD': 1, 'EPSOM': 1, 'BIG BEAR': 1, 'SAINT-DAMIEN-DE-BUCKLAND': 1, 'RICHMOND, BC V6V': 1, 'BEACON FALLS': 1, 'LAKE HILL': 1, 'BODFISH': 1, 'CLAWSON': 1, 'VANCOUVER BC V6J 3B1': 1, 'NEPTUNE': 1, 'RICHMOND HILL, CANADA L4B 3B3': 1, 'MARINA': 1, 'GLENVIEW': 1, 'CAMP PENDELTON': 1, 'DELSON QC': 1, 'SCHILLER PARK': 1, 'CAMP VERDE': 1, 'AJELTAKE ISLAND MAJURO': 1, 'ZADAR': 1, 'LEWISBURG': 1, 'OLEAN': 1, 'STEVENSVILLE': 1, 'JONES MILLES': 1, '29 PALMS': 1, 'SUMMERLAND': 1, 'MCMURRAY': 1, 'BEAVERCREEK': 1, 'SANDISFIELD': 1, 'CARUTHERS': 1, 'WALKERSVILLE': 1, 'PALOS VERDES': 1, 'SAN TAN VALLEY': 1, 'BELL GARDEN': 1, 'CHEK LAP KOK, LANTAU ISLAND': 1, 'ST CHARLES': 1, 'WEST BRIDGEWATER': 1, 'RJ BRASIL AL 000289': 1, 'ANYANG-SI': 1, 'HUNTERTOWN': 1, 'HELSINKI FINLAND 00520': 1, 'WHITE RIVER JUNCTION': 1, 'UPPER MARLBORO': 1, 'NORTH MANKATO': 1, 'ABERDEEN': 1, 'NOTTINGHAM': 1, 'MATAM HAIFA ISRAEL 31016': 1, 'KOHLER': 1, 'LIYANG CITY JIANGSU PROVINCE': 1, 'MARYVILLE': 1, 'WOOODLAND HILLS': 1, 'NORWOOD': 1, 'SQUAW VALLEY': 1, 'GRAY COURT': 1, 'PAMLDALE': 1, 'LYONS': 1, 'BOALSBURG': 1, 'NORTH VANCOUVER, BC V7P 2M8': 1, 'INYOKERN': 1, 'NINEVEH': 1, 'SHELBY': 1, 'INDIANOLA': 1, 'COCOA BEACH': 1, 'ANAHIEM': 1, 'SYKESVILLE': 1, 'SEWICKLEY': 1, 'TORONTO, ONTARIO M4S 1A1': 1, 'CHISWICK, LONDON': 1, 'NAUGATUCK': 1, 'PEMBROKE': 1, 'AUSTINTOWN': 1, 'WESTAMPTON': 1, 'SOUTH SALT LAKE': 1, 'SISTERS': 1, 'MAPLETREE BUSINESS CITY': 1, 'NORTH MUSKEGON': 1, 'DAVIDSON': 1, 'HOBART': 1, 'MOAPA': 1, 'PLAINSBORO': 1, 'GUILFORD': 1, 'PEPPER PIKE': 1, 'RICHMOND  BC  V6W1J3': 1, 'LOCKESBURG': 1, 'SAUK CENTRE': 1, 'SELAH': 1, 'SOUTHLAKE': 1, 'MILLSTONE TOWNSHIP': 1, 'DEER VALLEY': 1, 'KENNEDY SPACE CENTER': 1, 'ELMONT': 1, 'OLMSTED TWP': 1, 'LAKE LOS ANGELES': 1, 'ZEELAND': 1, 'KEAAU': 1, 'CHAMBERY': 1, 'TIRUCHIRAPPALLI, TAMIL NADU': 1, 'VANCOUVER BC': 1, 'EUCLID': 1, 'NAPA VALLEY': 1, 'BEDFORD HILLS': 1, 'MAPLE PLAIN': 1, 'KILA': 1, 'SCARBOROUGH': 1, 'CRANSTON': 1, 'BEARBLOSSOM': 1, 'CULVER': 1, 'GLASTONBURY': 1, 'POWDER SPRINGS': 1, 'WOODLAND HILS': 1, 'IOWA CITY': 1, 'TEL AVIV': 1, 'NASSAU': 1, 'BISMARCK': 1, 'ARROW BEAR': 1, 'PORTER': 1, 'KANKAKEE': 1, 'SUNNYSIDE': 1, 'HAVERTOWN': 1, 'CLANCY': 1, 'SMITHTOWN': 1, 'RAYMORE': 1, 'KETTERING': 1, 'ELLISVILLE': 1, 'BROOKINGS': 1, 'LILLINGTON': 1, 'STEVENSON RCH': 1, 'MADISON HEIGHTS': 1, 'HUEYTOWN': 1, 'BAYVILLE': 1, 'TRELLEBORG': 1, 'CAPO BEACH': 1, 'LEWISTOWN': 1, 'CLYDE HILL': 1, 'MENOMONIE': 1, 'NORRIS': 1, 'AMENIA': 1, 'LANCATER': 1, 'TAYLOR': 1, 'LOS ALAMOS': 1, 'SURREY BC V3W 2X8': 1, 'LANSING': 1, 'BRANDON': 1, 'PACIFIC': 1, 'FLINTRIDGE': 1, 'HIGHLAND HEIGHTS': 1, 'CLARK FORK': 1, 'SAN ANGELO': 1, 'WEST DEPTFORD': 1, 'RICHWOOD': 1, 'SEBASTIAN': 1, 'GASTONIA': 1, 'PRINCESS ANNE': 1, 'SHREWSBURY': 1, 'NORTH BETHESDA': 1, 'SUNNING HILL SL5 9TG': 1, 'SOUTH RIVER': 1, 'GREELEY': 1, 'WICKLIFFE': 1, 'RACINE': 1, 'SANDWICH': 1, 'CY OF INDSTRY': 1, 'NORTH CHELMSFORD': 1, 'SADDLE RIVER': 1, 'FULSHEAR': 1, 'REDHILL SURREY RHI IUP': 1, 'PIPERSVILLE': 1, 'INWOOD': 1, 'CORCORAN': 1, 'GREENSBURG': 1, 'COUNTRY CLUB HILLS': 1, 'SAVANNAH': 1, 'INVERNESS': 1, 'SEQUIM': 1, 'DUBAI': 1, 'BLOOMVILLE': 1, 'ASPEN': 1, 'BAKER': 1, 'REGO PARK': 1, 'LA VERGNE': 1, 'KAPOLEI': 1, 'MURRELLS INLET': 1, 'AMES': 1, 'ST-DAMIEN QUEBEC G0R 2Y0': 1, 'ROSELAND': 1, 'DERBY': 1, 'MANSON': 1, 'FOLEY': 1, 'HWASEONG': 1, 'LUTHERVILLE TIMONIUM': 1, 'WINNIPEG MB CANADA R3T6G2': 1, 'VILLANOVA': 1, 'PUDONG, NEW AREA, SHANGHAI': 1, 'BOLTON': 1, 'MATAWAN': 1, 'CAMPO': 1, 'PT CHARLOTTE': 1, 'BOERNE': 1, 'DUNLAP': 1, 'APPLETON': 1, 'YUMA': 1, 'QUEENS VILLAGE': 1, 'BURIEN': 1, 'MANALAPAN': 1, 'POWELL': 1, 'CAZADERO': 1, 'TAFT': 1, 'CRAWFORDSVILLE': 1, 'WOODBURN': 1, 'CROCKETT': 1, 'RIDGEFIELD PARK': 1, 'CROWS LANDING': 1, 'LIBERTY': 1, 'COTTONWOOD': 1, 'QUEBEC G1K': 1, 'ENUMCLAW': 1, 'STIGLER': 1, 'FOREST GROVE': 1, 'LONDON, ENGLAND SW9 6DE': 1, 'ROWLAND HGTS': 1, 'FAIRBURN': 1, 'HERSHEY': 1, 'RCH CUCAMONGA': 1, 'DAGGETT': 1, 'BORING': 1, 'MORROW': 1, 'MOHAVE VALLEY': 1, 'NORTHIRDGE': 1, 'MORGANTON': 1, 'MOSS LANDING': 1, 'NEWBURYPORT': 1, 'NORTH BAY VILLAGE': 1, 'CENTRALIA': 1, 'BOADING HEBEI 071056': 1, 'WHEATLAND': 1, 'TINTON FALLS': 1, 'TORONTO ONTARIO M1N 3E3': 1, 'PARRISH': 1, 'LAKE BALBAOA': 1, 'QUARTZSITE': 1, 'MONTAGUE': 1, 'SUTHERLIN': 1, 'NORTHVILLE': 1, 'THONOTOSASSA': 1, 'LAUDERDALE LAKES': 1, 'GAHANNA': 1, 'KEWASKUM': 1, 'BEDIAS': 1, 'CLARKSVILLE': 1, 'ATWOOD': 1, 'SAINT MARTIN': 1, 'TOCCOA': 1, 'THORNHILL ONTARIO': 1, 'FALL RIVER': 1, 'CULVERT CITY': 1, 'HOCKESSIN': 1, 'TOPOCK': 1, 'WILLMAR': 1, 'FEDERAL WAY': 1, 'SANDUSKY': 1, 'MOON TWP': 1, 'DOVE CANYON': 1, 'MT WASHINGTON': 1, 'FLOYD': 1, 'MERRILLVILLE': 1, 'WILLIAMS BAY': 1, 'NORTH WALES': 1, 'GUADALUPE': 1, 'GORDO': 1, 'SWARTHMORE': 1, 'MUSKEGON': 1, 'CEDAR KNOLLS': 1, 'VERSAILLES': 1, 'CLAYMONT': 1, 'CALISTOGA': 1, 'WEST LAFAYETTE': 1, 'CLEARFIELD': 1, 'GRAHAM': 1, 'WESTVILLE': 1, 'PINECREST': 1, 'MAX MEADOWS': 1, 'GRIFFIN': 1, 'ANSAN-SI GYEONGGI-DO': 1, 'VERGENNES': 1, 'ST PAUL': 1, 'FLAT ROCK': 1, 'LUCERNE VALLEY': 1, 'KOLKATA': 1, 'PICKERINGTON': 1, 'PANAMA CITY BEACH': 1, 'PROSPECT': 1, 'BURTONSVILLE': 1, 'COLMAR': 1, 'RAVENNA': 1, 'MIDDLESEX': 1, 'SILVER CITY': 1, 'WAXAHACHIE': 1, 'GRANDVIEW': 1, 'ROWLAND HIEGHTS': 1, 'PRESCOTT VALLEY': 1, 'CHICAGO RIDGE': 1, 'PRINEVILLE': 1, 'FLOURTOWN': 1, 'FORT VALLEY': 1, 'BAYONNE': 1, 'MANISTEE': 1, 'PIQUA': 1, 'POTSDAM': 1, 'NORTH MIAMI BEACH': 1, 'CHRISTIANSBURG': 1, 'CAYUCOS': 1, 'ALACHUA': 1, 'POCASSET': 1, 'CLINTON TOWNSHIP': 1, 'ROYAL PALM BEACH': 1, 'KYLE': 1, 'MARKHAM, ONTARIO': 1, 'CONIFER': 1, 'CHERRY HILLS VILLAGE': 1, 'PENTICTON BC V2A 5L1': 1, 'COALINGA': 1, 'QUAKERTOWN': 1, 'TOLEDO': 1, 'HOLDEN': 1, 'SALOME': 1, 'WATERFORD TOWNSHIP': 1, 'TOWNSEND': 1, 'KENNEWICK': 1, 'ROTHSCHILD': 1, 'CASTROVILLE': 1, 'MONTREAL QC H3A2R7': 1, 'TRUCKEE': 1, 'LOSANGELES': 1, 'HOPKINSVILLE': 1, 'BRITISH COLUMBIA': 1, 'TONOPAH': 1, 'WESTFORD': 1, 'WOODBINE': 1, 'AMBLER': 1, 'CHARLESTOWN': 1, 'NANTUCKET': 1, 'SPANISH FORK': 1, 'DEMAREST': 1, 'ORMOND BEACH': 1, 'MIAMI SPRINGS': 1, 'LAVALLETTE': 1, 'SHILOH': 1, 'MONTOURSVILLE': 1, 'STONE MOUNTAIN': 1, 'VESTA': 1, 'FAIRBURY': 1, 'CHEVY CHASE': 1, 'LAKE WORTH': 1, 'SHOHOLA': 1, 'GURLEY': 1, 'COSTA DEL ESTE, PANAMA CITY': 1, 'SWANZEY': 1, 'BINGHAM FARMS': 1, 'ROCHELLE PARK': 1, 'ALPENA': 1, 'MANZANA I, EL PINAR CANELONES': 1, 'MINNETONKA': 1, 'RANCHOS DE TAOS': 1, 'PETERBOROUGH': 1, 'VESTAVIA HILLS': 1, 'CALGARY, ALBERTA': 1, 'BATESVILLE': 1, 'GLEN ELLEN': 1, 'OSPREY': 1, 'MATLACHA': 1, 'MONTENBELLO': 1, 'WAREHAM': 1, 'DESOTO': 1, 'SCHODACK LANDING': 1, 'WEATHERFORD': 1, '2 MARITIME QUAY, LONDON': 1, 'BROWNSBURG': 1, 'WINDSOR MILL': 1, 'MANVILLE': 1, 'LONOA': 1, 'SUFFERN': 1, 'LEWISTON': 1, 'BRISBANE, QLD 4006': 1, 'FORT ATKINSON': 1, 'HUNTINGTN BEACH': 1, 'HOOVER': 1, 'GORMAN': 1, 'LONDON, ONTARIO, N5V4T7': 1, 'WESTERLY': 1, 'WILLOWBROOK': 1, 'ST CATHARINES ONTARIO L2N 1L2': 1, 'ISLA VISTA': 1, 'YOKNEAU ISRAEL': 1, 'BALL GROUND': 1, 'VELTEN GERMANY D-16727': 1, 'WEST WARWICK': 1, 'LOS ANEGELES': 1, 'TOWNSBURG': 1, 'MAPLETON': 1, 'PAHALA': 1, 'KINGSTON': 1, 'NORTH BARRINGTON': 1, 'EAST POINT': 1, 'MURPHY': 1, 'GILBERTSVILLE': 1, 'HARKER HEIGHTS': 1, 'OLNEY': 1, 'ORLAND PARK': 1, 'MCKINLEYVILLE': 1, 'FALMOUTH': 1, 'BARTLETT': 1, 'SHADY SHORES': 1, 'CORNISH': 1, 'EAST GREENWICH': 1, 'WILSON': 1, 'TERREBONNE QUEBEC': 1, 'CIDAR GLENN': 1, 'ISLAMORADA': 1, 'POST FALLS': 1, 'HENLEY ON THAMES RG9 3BL': 1, 'TONAWANDA': 1, 'LAKE ST LOUIS': 1, 'YPSILANTI': 1, 'NEW LENOX': 1, 'BAYFIELD': 1, 'SOUTH WINDSOR': 1, 'MICANOPY': 1, 'TRAVERSE CITY': 1, 'NEW SMYRNA BEACH': 1, 'CORVALLIS': 1, 'ENNIS': 1, 'WISCONSIN RAPIDS': 1, 'MIDVALE': 1, 'EULESS': 1, 'WINNIPEG MB R2LOX3': 1, 'HIGHLAND FALLS': 1, 'NEW FAIRFIELD': 1, 'IDLEWYLDE': 1, 'KHLONG-TOEY, BANGKOK': 1, 'MORRISON': 1, 'SEASIDE': 1, 'PLACENCIA': 1, 'RAIL ROAD FLAT': 1, 'LITTEROCK': 1, 'WEXFORD': 1, 'MABELVALE': 1, 'SOUTHBANK VIC 3006 AUSTRALIA': 1, 'SOUTH BRISTOL': 1, 'KURTISTOWN': 1}\n",
      "3007\n"
     ]
    }
   ],
   "source": [
    "city_count_dict = df1['CITY'].value_counts().to_dict()\n",
    "print(city_count_dict)\n",
    "print(len(city_count_dict))"
   ]
  },
  {
   "cell_type": "markdown",
   "metadata": {},
   "source": [
    "Load city_list dataset"
   ]
  },
  {
   "cell_type": "code",
   "execution_count": 31,
   "metadata": {},
   "outputs": [],
   "source": [
    "file_path = 'dataset\\\\city_list.csv'\n",
    "city_df = pd.read_csv(file_path)\n",
    "city_list = city_df['City'].to_list()"
   ]
  },
  {
   "cell_type": "code",
   "execution_count": 32,
   "metadata": {},
   "outputs": [],
   "source": [
    "# for later Geomap use\n",
    "city_dict = {'City': city_list}"
   ]
  },
  {
   "cell_type": "code",
   "execution_count": 37,
   "metadata": {},
   "outputs": [],
   "source": [
    "# Function to parse coordinates\n",
    "def parse_location(location_str):\n",
    "    try:\n",
    "        lat, lon = location_str.strip('()').split(', ')\n",
    "        return float(lat), float(lon)\n",
    "    except:\n",
    "        return None, None"
   ]
  },
  {
   "cell_type": "code",
   "execution_count": 43,
   "metadata": {},
   "outputs": [],
   "source": [
    "# Extract latitude and longitude\n",
    "df1[['latitude', 'longitude']] = df1['LOCATION'].apply(lambda x: pd.Series(parse_location(x)))"
   ]
  },
  {
   "cell_type": "code",
   "execution_count": 40,
   "metadata": {},
   "outputs": [],
   "source": [
    "# Filter invalid coordinates\n",
    "df1 = df1.dropna(subset=['latitude', 'longitude'])\n",
    "df1 = df1[(df1['latitude'].between(-90, 90)) & (df1['longitude'].between(-180, 180))]"
   ]
  },
  {
   "cell_type": "code",
   "execution_count": null,
   "metadata": {},
   "outputs": [],
   "source": [
    "# Calculate map center\n",
    "map_center = [df1['latitude'].mean(), df1['longitude'].mean()]\n",
    "\n",
    "# Initialize the map\n",
    "business_map = folium.Map(location=map_center, zoom_start=12)\n",
    "\n",
    "# Add marker clusters\n",
    "marker_cluster = MarkerCluster().add_to(business_map)\n",
    "\n",
    "# Add business markers\n",
    "for _, row in df1.iterrows():\n",
    "    folium.Marker(\n",
    "        location=[row['latitude'], row['longitude']],\n",
    "        popup=folium.Popup(f\"{row['BUSINESS NAME']}<br>{row['STREET ADDRESS']}\", max_width=250),\n",
    "        icon=folium.Icon(color='blue', icon='info-sign')\n",
    "    ).add_to(marker_cluster)\n",
    "\n",
    "# Display the map\n",
    "business_map"
   ]
  },
  {
   "cell_type": "code",
   "execution_count": 46,
   "metadata": {},
   "outputs": [
    {
     "ename": "KeyError",
     "evalue": "'Address'",
     "output_type": "error",
     "traceback": [
      "\u001b[1;31m---------------------------------------------------------------------------\u001b[0m",
      "\u001b[1;31mKeyError\u001b[0m                                  Traceback (most recent call last)",
      "File \u001b[1;32me:\\Code\\anaconda3\\envs\\cs171env\\lib\\site-packages\\pandas\\core\\indexes\\base.py:3805\u001b[0m, in \u001b[0;36mIndex.get_loc\u001b[1;34m(self, key)\u001b[0m\n\u001b[0;32m   3804\u001b[0m \u001b[38;5;28;01mtry\u001b[39;00m:\n\u001b[1;32m-> 3805\u001b[0m     \u001b[38;5;28;01mreturn\u001b[39;00m \u001b[38;5;28;43mself\u001b[39;49m\u001b[38;5;241;43m.\u001b[39;49m\u001b[43m_engine\u001b[49m\u001b[38;5;241;43m.\u001b[39;49m\u001b[43mget_loc\u001b[49m\u001b[43m(\u001b[49m\u001b[43mcasted_key\u001b[49m\u001b[43m)\u001b[49m\n\u001b[0;32m   3806\u001b[0m \u001b[38;5;28;01mexcept\u001b[39;00m \u001b[38;5;167;01mKeyError\u001b[39;00m \u001b[38;5;28;01mas\u001b[39;00m err:\n",
      "File \u001b[1;32mindex.pyx:167\u001b[0m, in \u001b[0;36mpandas._libs.index.IndexEngine.get_loc\u001b[1;34m()\u001b[0m\n",
      "File \u001b[1;32mindex.pyx:196\u001b[0m, in \u001b[0;36mpandas._libs.index.IndexEngine.get_loc\u001b[1;34m()\u001b[0m\n",
      "File \u001b[1;32mpandas\\\\_libs\\\\hashtable_class_helper.pxi:7081\u001b[0m, in \u001b[0;36mpandas._libs.hashtable.PyObjectHashTable.get_item\u001b[1;34m()\u001b[0m\n",
      "File \u001b[1;32mpandas\\\\_libs\\\\hashtable_class_helper.pxi:7089\u001b[0m, in \u001b[0;36mpandas._libs.hashtable.PyObjectHashTable.get_item\u001b[1;34m()\u001b[0m\n",
      "\u001b[1;31mKeyError\u001b[0m: 'Address'",
      "\nThe above exception was the direct cause of the following exception:\n",
      "\u001b[1;31mKeyError\u001b[0m                                  Traceback (most recent call last)",
      "Cell \u001b[1;32mIn[46], line 12\u001b[0m\n\u001b[0;32m      8\u001b[0m df_business \u001b[38;5;241m=\u001b[39m df1\u001b[38;5;241m.\u001b[39mcopy()\n\u001b[0;32m     10\u001b[0m \u001b[38;5;66;03m# Assume the CSV has these columns: 'Business', 'Address', 'City', 'State'\u001b[39;00m\n\u001b[0;32m     11\u001b[0m \u001b[38;5;66;03m# Create a full address column for geocoding\u001b[39;00m\n\u001b[1;32m---> 12\u001b[0m df_business[\u001b[38;5;124m'\u001b[39m\u001b[38;5;124mFull_Address\u001b[39m\u001b[38;5;124m'\u001b[39m] \u001b[38;5;241m=\u001b[39m \u001b[43mdf_business\u001b[49m\u001b[43m[\u001b[49m\u001b[38;5;124;43m'\u001b[39;49m\u001b[38;5;124;43mAddress\u001b[39;49m\u001b[38;5;124;43m'\u001b[39;49m\u001b[43m]\u001b[49m \u001b[38;5;241m+\u001b[39m \u001b[38;5;124m\"\u001b[39m\u001b[38;5;124m, \u001b[39m\u001b[38;5;124m\"\u001b[39m \u001b[38;5;241m+\u001b[39m df_business[\u001b[38;5;124m'\u001b[39m\u001b[38;5;124mCity\u001b[39m\u001b[38;5;124m'\u001b[39m] \u001b[38;5;241m+\u001b[39m \u001b[38;5;124m\"\u001b[39m\u001b[38;5;124m, \u001b[39m\u001b[38;5;124m\"\u001b[39m \u001b[38;5;241m+\u001b[39m df_business[\u001b[38;5;124m'\u001b[39m\u001b[38;5;124mState\u001b[39m\u001b[38;5;124m'\u001b[39m]\n\u001b[0;32m     14\u001b[0m \u001b[38;5;66;03m# Optionally include ZIP if available\u001b[39;00m\n\u001b[0;32m     15\u001b[0m \u001b[38;5;28;01mif\u001b[39;00m \u001b[38;5;124m'\u001b[39m\u001b[38;5;124mZip\u001b[39m\u001b[38;5;124m'\u001b[39m \u001b[38;5;129;01min\u001b[39;00m df_business\u001b[38;5;241m.\u001b[39mcolumns:\n",
      "File \u001b[1;32me:\\Code\\anaconda3\\envs\\cs171env\\lib\\site-packages\\pandas\\core\\frame.py:4102\u001b[0m, in \u001b[0;36mDataFrame.__getitem__\u001b[1;34m(self, key)\u001b[0m\n\u001b[0;32m   4100\u001b[0m \u001b[38;5;28;01mif\u001b[39;00m \u001b[38;5;28mself\u001b[39m\u001b[38;5;241m.\u001b[39mcolumns\u001b[38;5;241m.\u001b[39mnlevels \u001b[38;5;241m>\u001b[39m \u001b[38;5;241m1\u001b[39m:\n\u001b[0;32m   4101\u001b[0m     \u001b[38;5;28;01mreturn\u001b[39;00m \u001b[38;5;28mself\u001b[39m\u001b[38;5;241m.\u001b[39m_getitem_multilevel(key)\n\u001b[1;32m-> 4102\u001b[0m indexer \u001b[38;5;241m=\u001b[39m \u001b[38;5;28;43mself\u001b[39;49m\u001b[38;5;241;43m.\u001b[39;49m\u001b[43mcolumns\u001b[49m\u001b[38;5;241;43m.\u001b[39;49m\u001b[43mget_loc\u001b[49m\u001b[43m(\u001b[49m\u001b[43mkey\u001b[49m\u001b[43m)\u001b[49m\n\u001b[0;32m   4103\u001b[0m \u001b[38;5;28;01mif\u001b[39;00m is_integer(indexer):\n\u001b[0;32m   4104\u001b[0m     indexer \u001b[38;5;241m=\u001b[39m [indexer]\n",
      "File \u001b[1;32me:\\Code\\anaconda3\\envs\\cs171env\\lib\\site-packages\\pandas\\core\\indexes\\base.py:3812\u001b[0m, in \u001b[0;36mIndex.get_loc\u001b[1;34m(self, key)\u001b[0m\n\u001b[0;32m   3807\u001b[0m     \u001b[38;5;28;01mif\u001b[39;00m \u001b[38;5;28misinstance\u001b[39m(casted_key, \u001b[38;5;28mslice\u001b[39m) \u001b[38;5;129;01mor\u001b[39;00m (\n\u001b[0;32m   3808\u001b[0m         \u001b[38;5;28misinstance\u001b[39m(casted_key, abc\u001b[38;5;241m.\u001b[39mIterable)\n\u001b[0;32m   3809\u001b[0m         \u001b[38;5;129;01mand\u001b[39;00m \u001b[38;5;28many\u001b[39m(\u001b[38;5;28misinstance\u001b[39m(x, \u001b[38;5;28mslice\u001b[39m) \u001b[38;5;28;01mfor\u001b[39;00m x \u001b[38;5;129;01min\u001b[39;00m casted_key)\n\u001b[0;32m   3810\u001b[0m     ):\n\u001b[0;32m   3811\u001b[0m         \u001b[38;5;28;01mraise\u001b[39;00m InvalidIndexError(key)\n\u001b[1;32m-> 3812\u001b[0m     \u001b[38;5;28;01mraise\u001b[39;00m \u001b[38;5;167;01mKeyError\u001b[39;00m(key) \u001b[38;5;28;01mfrom\u001b[39;00m\u001b[38;5;250m \u001b[39m\u001b[38;5;21;01merr\u001b[39;00m\n\u001b[0;32m   3813\u001b[0m \u001b[38;5;28;01mexcept\u001b[39;00m \u001b[38;5;167;01mTypeError\u001b[39;00m:\n\u001b[0;32m   3814\u001b[0m     \u001b[38;5;66;03m# If we have a listlike key, _check_indexing_error will raise\u001b[39;00m\n\u001b[0;32m   3815\u001b[0m     \u001b[38;5;66;03m#  InvalidIndexError. Otherwise we fall through and re-raise\u001b[39;00m\n\u001b[0;32m   3816\u001b[0m     \u001b[38;5;66;03m#  the TypeError.\u001b[39;00m\n\u001b[0;32m   3817\u001b[0m     \u001b[38;5;28mself\u001b[39m\u001b[38;5;241m.\u001b[39m_check_indexing_error(key)\n",
      "\u001b[1;31mKeyError\u001b[0m: 'Address'"
     ]
    }
   ],
   "source": [
    "import folium\n",
    "import pandas as pd\n",
    "import numpy as np\n",
    "from geopy.exc import GeocoderTimedOut\n",
    "from geopy.geocoders import Nominatim\n",
    "\n",
    "# Load the business dataset from the CSV file\n",
    "df_business = df1.copy()\n",
    "\n",
    "# Assume the CSV has these columns: 'Business', 'Address', 'City', 'State'\n",
    "# Create a full address column for geocoding\n",
    "df_business['Full_Address'] = df_business['Address'] + \", \" + df_business['City'] + \", \" + df_business['State']\n",
    "\n",
    "# Optionally include ZIP if available\n",
    "if 'Zip' in df_business.columns:\n",
    "    df_business['Full_Address'] = df_business['Full_Address'] + \", \" + df_business['Zip'].astype(str)\n",
    "\n",
    "# Define a function to fetch geocode data using Nominatim\n",
    "def findGeocode(address):\n",
    "    try:\n",
    "        geolocator = Nominatim(user_agent=\"business_map\")\n",
    "        return geolocator.geocode(address)\n",
    "    except GeocoderTimedOut:\n",
    "        return None\n",
    "\n",
    "# Initialize lists to store latitude and longitude values\n",
    "latitudes = []\n",
    "longitudes = []\n",
    "\n",
    "# For each full address, get the coordinates\n",
    "for address in df_business['Full_Address']:\n",
    "    location = findGeocode(address)\n",
    "    if location:\n",
    "        latitudes.append(location.latitude)\n",
    "        longitudes.append(location.longitude)\n",
    "    else:\n",
    "        latitudes.append(np.nan)\n",
    "        longitudes.append(np.nan)\n",
    "\n",
    "# Append the coordinates to the DataFrame\n",
    "df_business['Latitude'] = latitudes\n",
    "df_business['Longitude'] = longitudes\n",
    "\n",
    "# Calculate a center for the map (using the mean of the coordinates)\n",
    "map_center = [df_business['Latitude'].mean(), df_business['Longitude'].mean()]\n",
    "\n",
    "# Create a Folium map centered at the calculated center\n",
    "business_map = folium.Map(location=map_center, zoom_start=12)\n",
    "\n",
    "# Loop through the DataFrame and add a marker for each business\n",
    "for idx, row in df_business.iterrows():\n",
    "    if not np.isnan(row['Latitude']) and not np.isnan(row['Longitude']):\n",
    "         folium.Marker(\n",
    "             location=[row['Latitude'], row['Longitude']],\n",
    "             popup=f\"{row['Business']}<br>{row['Full_Address']}\"\n",
    "         ).add_to(business_map)\n",
    "\n",
    "# Display the map\n",
    "business_map"
   ]
  },
  {
   "cell_type": "markdown",
   "metadata": {},
   "source": [
    "#### To-Do:\n",
    "Visualization:\n",
    "\n",
    "Botplot: different induastry vs survivual time\n",
    "\n",
    "Location: geo graph + (la zoning map or population density map)\n",
    "\n",
    "survival time by different business (naics code) (similar to histogram)\n",
    "\n",
    "\n",
    "Note: finalize presentation need to show simple EDA idaes\n"
   ]
  },
  {
   "cell_type": "markdown",
   "metadata": {},
   "source": []
  },
  {
   "cell_type": "markdown",
   "metadata": {},
   "source": []
  }
 ],
 "metadata": {
  "kernelspec": {
   "display_name": "cs171env",
   "language": "python",
   "name": "python3"
  },
  "language_info": {
   "codemirror_mode": {
    "name": "ipython",
    "version": 3
   },
   "file_extension": ".py",
   "mimetype": "text/x-python",
   "name": "python",
   "nbconvert_exporter": "python",
   "pygments_lexer": "ipython3",
   "version": "3.10.16"
  }
 },
 "nbformat": 4,
 "nbformat_minor": 2
}
